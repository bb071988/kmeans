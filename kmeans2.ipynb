{
 "cells": [
  {
   "cell_type": "code",
   "execution_count": 80,
   "metadata": {
    "collapsed": true
   },
   "outputs": [],
   "source": [
    "%matplotlib inline"
   ]
  },
  {
   "cell_type": "code",
   "execution_count": 81,
   "metadata": {
    "collapsed": true
   },
   "outputs": [],
   "source": [
    "import pandas as pd\n",
    "import numpy as np\n",
    "import matplotlib.pyplot as plt\n",
    "import matplotlib.patches as mpatches\n"
   ]
  },
  {
   "cell_type": "code",
   "execution_count": 82,
   "metadata": {
    "collapsed": true
   },
   "outputs": [],
   "source": [
    "df = pd.read_csv('iris.data.csv',names = ['s_length','s_width','p_length','p_width','i_class'])"
   ]
  },
  {
   "cell_type": "code",
   "execution_count": 83,
   "metadata": {
    "collapsed": false
   },
   "outputs": [
    {
     "data": {
      "image/png": "[encoded data removed]",
      "text/plain": [
       "<matplotlib.figure.Figure at 0xa305048>"
      ]
     },
     "metadata": {},
     "output_type": "display_data"
    }
   ],
   "source": [
    "# print(df.i_class.unique())\n",
    "c_chart = ['red','green','blue']\n",
    "for idx, val in enumerate(df.i_class.unique()):\n",
    "    df1 = df[df['i_class'] == val]\n",
    "    y = df1['s_width']\n",
    "    x = df1['s_length']\n",
    "    plt.scatter(x,y, color = c_chart[idx])\n",
    "plt.title('Iris Graph')\n",
    "plt.xlabel('Sepal Length')\n",
    "plt.ylabel('Sepal Width')\n",
    "red_patch = mpatches.Patch(color='red', label='Setosa')\n",
    "blue_patch = mpatches.Patch(color='blue', label = 'Versicolor')\n",
    "green_patch = mpatches.Patch(color='green', label = 'Virginica')\n",
    "plt.legend(handles=[red_patch, blue_patch, green_patch])\n",
    "plt.show()"
   ]
  },
  {
   "cell_type": "code",
   "execution_count": 84,
   "metadata": {
    "collapsed": true
   },
   "outputs": [],
   "source": [
    "# Determine k.\n",
    "# Calculate the distance between the new observation and all points in the training set.\n",
    "# Sort the distances to determine the k nearest neighbors based on the k-th minimum distance.\n",
    "# Determine the class of those neighbors.\n",
    "# Determine the majority."
   ]
  },
  {
   "cell_type": "code",
   "execution_count": null,
   "metadata": {
    "collapsed": true
   },
   "outputs": [],
   "source": [
    "\n",
    "   \n",
    "    "
   ]
  },
  {
   "cell_type": "code",
   "execution_count": 85,
   "metadata": {
    "collapsed": false
   },
   "outputs": [],
   "source": [
    "def get_majority(dfrnd):\n",
    "\n",
    "#     print(dfrnd)\n",
    "    # set the values for length and width from random row for distance calculations\n",
    "\n",
    "    rnd_length = dfrnd['s_length']\n",
    "    rnd_width = dfrnd['s_width']\n",
    "#     print(\"sepal length in my random row is {}\".format(rnd_length))\n",
    "   \n",
    "\n",
    "    # calculate the distance between the random point and all points in the array based on pythagorean thereom\n",
    "\n",
    "    df['length_dif'] = rnd_length - df['s_length']\n",
    "    df['width_dif'] = rnd_width - df['s_width']\n",
    "    df['dist'] = np.sqrt(df.length_dif **2 + df.width_dif **2)\n",
    "\n",
    "    # sort the data by distance\n",
    "    dfsort = df.sort(['dist'], ascending = [True])\n",
    "\n",
    "    # create a new df with only k nearest neighbors\n",
    "    dfk = dfsort.head(k)\n",
    "#     print(\"nearest neighbors sorted by distance \")\n",
    "#     print(dfk)\n",
    "    \n",
    "    # Vote on majority class\n",
    "    setosa_cnt = 0\n",
    "    versicolor_cnt = 0\n",
    "    virginica_cnt = 0\n",
    "\n",
    "    # count number of each type\n",
    "\n",
    "    setosa_cnt = dfk[df['i_class'] == 'Iris-setosa'].s_length.count()\n",
    "    versicolor_cnt = dfk[df['i_class'] == 'Iris-versicolor'].s_length.count()\n",
    "    virginica_cnt = dfk[df['i_class'] == 'Iris-virginica'].s_length.count()\n",
    "#     print(setosa_cnt, versicolor_cnt, virginica_cnt)\n",
    "\n",
    "    count_dict = {'Iris-setosa': setosa_cnt, 'Iris-versicolor': versicolor_cnt, 'Iris-virginica': virginica_cnt}\n",
    "#     print(count_dict)\n",
    "\n",
    "    majority = max(count_dict, key=lambda key: count_dict[key])\n",
    "#     print(\"Majority vote is {} and actual is {}\".format(majority, dfrnd['i_class']))\n",
    "\n",
    "\n",
    "    return(majority)\n"
   ]
  },
  {
   "cell_type": "code",
   "execution_count": 86,
   "metadata": {
    "collapsed": false
   },
   "outputs": [
    {
     "data": {
      "text/plain": [
       "150"
      ]
     },
     "execution_count": 86,
     "metadata": {},
     "output_type": "execute_result"
    }
   ],
   "source": [
    "k = 5\n",
    "\n",
    "len(df)"
   ]
  },
  {
   "cell_type": "code",
   "execution_count": 97,
   "metadata": {
    "collapsed": false
   },
   "outputs": [
    {
     "name": "stderr",
     "output_type": "stream",
     "text": [
      "C:\\Users\\bob071988\\Anaconda2\\lib\\site-packages\\ipykernel\\__main__.py:18: FutureWarning: sort(columns=....) is deprecated, use sort_values(by=.....)\n"
     ]
    }
   ],
   "source": [
    "# df['majority'] = [get_majority(data,k) for index, data in df['i_class'].iteritems()]\n",
    "# raw_data['Loan.Length'] = [get_int_from_text(data) for index, data in raw_data['Loan.Length'].iteritems()]\n",
    "df['majority'] = False\n",
    "\n",
    "for x in range(len(df)):\n",
    "# for x in range(5):\n",
    "    majority = get_majority(df.iloc[x])\n",
    "#     print(majority)\n",
    "    df.loc[x,'majority'] = majority # loc works here but iloc does not"
   ]
  },
  {
   "cell_type": "code",
   "execution_count": 102,
   "metadata": {
    "collapsed": false
   },
   "outputs": [
    {
     "name": "stdout",
     "output_type": "stream",
     "text": [
      "Number of mislabeled points out of a total 150 points : 23\n"
     ]
    }
   ],
   "source": [
    "# df[df['i_class' != 'majority']].count()\n",
    "print(\"Number of mislabeled points out of a total %d points : %d\"\n",
    "% (df.shape[0],(df.i_class != df.majority).sum()))"
   ]
  },
  {
   "cell_type": "code",
   "execution_count": 109,
   "metadata": {
    "collapsed": false
   },
   "outputs": [
    {
     "data": {
      "text/html": [
       "<div>\n",
       "<table border=\"1\" class=\"dataframe\">\n",
       "  <thead>\n",
       "    <tr style=\"text-align: right;\">\n",
       "      <th></th>\n",
       "      <th>s_length</th>\n",
       "      <th>s_width</th>\n",
       "      <th>p_length</th>\n",
       "      <th>p_width</th>\n",
       "      <th>i_class</th>\n",
       "      <th>majority</th>\n",
       "      <th>length_dif</th>\n",
       "      <th>width_dif</th>\n",
       "      <th>dist</th>\n",
       "    </tr>\n",
       "  </thead>\n",
       "  <tbody>\n",
       "    <tr>\n",
       "      <th>41</th>\n",
       "      <td>4.5</td>\n",
       "      <td>2.3</td>\n",
       "      <td>1.3</td>\n",
       "      <td>0.3</td>\n",
       "      <td>Iris-setosa</td>\n",
       "      <td>Iris-versicolor</td>\n",
       "      <td>1.4</td>\n",
       "      <td>0.7</td>\n",
       "      <td>1.565248</td>\n",
       "    </tr>\n",
       "    <tr>\n",
       "      <th>50</th>\n",
       "      <td>7.0</td>\n",
       "      <td>3.2</td>\n",
       "      <td>4.7</td>\n",
       "      <td>1.4</td>\n",
       "      <td>Iris-versicolor</td>\n",
       "      <td>Iris-virginica</td>\n",
       "      <td>-1.1</td>\n",
       "      <td>-0.2</td>\n",
       "      <td>1.118034</td>\n",
       "    </tr>\n",
       "    <tr>\n",
       "      <th>51</th>\n",
       "      <td>6.4</td>\n",
       "      <td>3.2</td>\n",
       "      <td>4.5</td>\n",
       "      <td>1.5</td>\n",
       "      <td>Iris-versicolor</td>\n",
       "      <td>Iris-virginica</td>\n",
       "      <td>-0.5</td>\n",
       "      <td>-0.2</td>\n",
       "      <td>0.538516</td>\n",
       "    </tr>\n",
       "    <tr>\n",
       "      <th>52</th>\n",
       "      <td>6.9</td>\n",
       "      <td>3.1</td>\n",
       "      <td>4.9</td>\n",
       "      <td>1.5</td>\n",
       "      <td>Iris-versicolor</td>\n",
       "      <td>Iris-virginica</td>\n",
       "      <td>-1.0</td>\n",
       "      <td>-0.1</td>\n",
       "      <td>1.004988</td>\n",
       "    </tr>\n",
       "    <tr>\n",
       "      <th>54</th>\n",
       "      <td>6.5</td>\n",
       "      <td>2.8</td>\n",
       "      <td>4.6</td>\n",
       "      <td>1.5</td>\n",
       "      <td>Iris-versicolor</td>\n",
       "      <td>Iris-virginica</td>\n",
       "      <td>-0.6</td>\n",
       "      <td>0.2</td>\n",
       "      <td>0.632456</td>\n",
       "    </tr>\n",
       "    <tr>\n",
       "      <th>56</th>\n",
       "      <td>6.3</td>\n",
       "      <td>3.3</td>\n",
       "      <td>4.7</td>\n",
       "      <td>1.6</td>\n",
       "      <td>Iris-versicolor</td>\n",
       "      <td>Iris-virginica</td>\n",
       "      <td>-0.4</td>\n",
       "      <td>-0.3</td>\n",
       "      <td>0.500000</td>\n",
       "    </tr>\n",
       "    <tr>\n",
       "      <th>61</th>\n",
       "      <td>5.9</td>\n",
       "      <td>3.0</td>\n",
       "      <td>4.2</td>\n",
       "      <td>1.5</td>\n",
       "      <td>Iris-versicolor</td>\n",
       "      <td>Iris-virginica</td>\n",
       "      <td>0.0</td>\n",
       "      <td>0.0</td>\n",
       "      <td>0.000000</td>\n",
       "    </tr>\n",
       "    <tr>\n",
       "      <th>67</th>\n",
       "      <td>5.8</td>\n",
       "      <td>2.7</td>\n",
       "      <td>4.1</td>\n",
       "      <td>1.0</td>\n",
       "      <td>Iris-versicolor</td>\n",
       "      <td>Iris-virginica</td>\n",
       "      <td>0.1</td>\n",
       "      <td>0.3</td>\n",
       "      <td>0.316228</td>\n",
       "    </tr>\n",
       "    <tr>\n",
       "      <th>72</th>\n",
       "      <td>6.3</td>\n",
       "      <td>2.5</td>\n",
       "      <td>4.9</td>\n",
       "      <td>1.5</td>\n",
       "      <td>Iris-versicolor</td>\n",
       "      <td>Iris-virginica</td>\n",
       "      <td>-0.4</td>\n",
       "      <td>0.5</td>\n",
       "      <td>0.640312</td>\n",
       "    </tr>\n",
       "    <tr>\n",
       "      <th>74</th>\n",
       "      <td>6.4</td>\n",
       "      <td>2.9</td>\n",
       "      <td>4.3</td>\n",
       "      <td>1.3</td>\n",
       "      <td>Iris-versicolor</td>\n",
       "      <td>Iris-virginica</td>\n",
       "      <td>-0.5</td>\n",
       "      <td>0.1</td>\n",
       "      <td>0.509902</td>\n",
       "    </tr>\n",
       "    <tr>\n",
       "      <th>75</th>\n",
       "      <td>6.6</td>\n",
       "      <td>3.0</td>\n",
       "      <td>4.4</td>\n",
       "      <td>1.4</td>\n",
       "      <td>Iris-versicolor</td>\n",
       "      <td>Iris-virginica</td>\n",
       "      <td>-0.7</td>\n",
       "      <td>0.0</td>\n",
       "      <td>0.700000</td>\n",
       "    </tr>\n",
       "    <tr>\n",
       "      <th>77</th>\n",
       "      <td>6.7</td>\n",
       "      <td>3.0</td>\n",
       "      <td>5.0</td>\n",
       "      <td>1.7</td>\n",
       "      <td>Iris-versicolor</td>\n",
       "      <td>Iris-virginica</td>\n",
       "      <td>-0.8</td>\n",
       "      <td>0.0</td>\n",
       "      <td>0.800000</td>\n",
       "    </tr>\n",
       "    <tr>\n",
       "      <th>82</th>\n",
       "      <td>5.8</td>\n",
       "      <td>2.7</td>\n",
       "      <td>3.9</td>\n",
       "      <td>1.2</td>\n",
       "      <td>Iris-versicolor</td>\n",
       "      <td>Iris-virginica</td>\n",
       "      <td>0.1</td>\n",
       "      <td>0.3</td>\n",
       "      <td>0.316228</td>\n",
       "    </tr>\n",
       "    <tr>\n",
       "      <th>97</th>\n",
       "      <td>6.2</td>\n",
       "      <td>2.9</td>\n",
       "      <td>4.3</td>\n",
       "      <td>1.3</td>\n",
       "      <td>Iris-versicolor</td>\n",
       "      <td>Iris-virginica</td>\n",
       "      <td>-0.3</td>\n",
       "      <td>0.1</td>\n",
       "      <td>0.316228</td>\n",
       "    </tr>\n",
       "    <tr>\n",
       "      <th>106</th>\n",
       "      <td>4.9</td>\n",
       "      <td>2.5</td>\n",
       "      <td>4.5</td>\n",
       "      <td>1.7</td>\n",
       "      <td>Iris-virginica</td>\n",
       "      <td>Iris-versicolor</td>\n",
       "      <td>1.0</td>\n",
       "      <td>0.5</td>\n",
       "      <td>1.118034</td>\n",
       "    </tr>\n",
       "    <tr>\n",
       "      <th>113</th>\n",
       "      <td>5.7</td>\n",
       "      <td>2.5</td>\n",
       "      <td>5.0</td>\n",
       "      <td>2.0</td>\n",
       "      <td>Iris-virginica</td>\n",
       "      <td>Iris-versicolor</td>\n",
       "      <td>0.2</td>\n",
       "      <td>0.5</td>\n",
       "      <td>0.538516</td>\n",
       "    </tr>\n",
       "    <tr>\n",
       "      <th>114</th>\n",
       "      <td>5.8</td>\n",
       "      <td>2.8</td>\n",
       "      <td>5.1</td>\n",
       "      <td>2.4</td>\n",
       "      <td>Iris-virginica</td>\n",
       "      <td>Iris-versicolor</td>\n",
       "      <td>0.1</td>\n",
       "      <td>0.2</td>\n",
       "      <td>0.223607</td>\n",
       "    </tr>\n",
       "    <tr>\n",
       "      <th>119</th>\n",
       "      <td>6.0</td>\n",
       "      <td>2.2</td>\n",
       "      <td>5.0</td>\n",
       "      <td>1.5</td>\n",
       "      <td>Iris-virginica</td>\n",
       "      <td>Iris-versicolor</td>\n",
       "      <td>-0.1</td>\n",
       "      <td>0.8</td>\n",
       "      <td>0.806226</td>\n",
       "    </tr>\n",
       "    <tr>\n",
       "      <th>121</th>\n",
       "      <td>5.6</td>\n",
       "      <td>2.8</td>\n",
       "      <td>4.9</td>\n",
       "      <td>2.0</td>\n",
       "      <td>Iris-virginica</td>\n",
       "      <td>Iris-versicolor</td>\n",
       "      <td>0.3</td>\n",
       "      <td>0.2</td>\n",
       "      <td>0.360555</td>\n",
       "    </tr>\n",
       "    <tr>\n",
       "      <th>126</th>\n",
       "      <td>6.2</td>\n",
       "      <td>2.8</td>\n",
       "      <td>4.8</td>\n",
       "      <td>1.8</td>\n",
       "      <td>Iris-virginica</td>\n",
       "      <td>Iris-versicolor</td>\n",
       "      <td>-0.3</td>\n",
       "      <td>0.2</td>\n",
       "      <td>0.360555</td>\n",
       "    </tr>\n",
       "    <tr>\n",
       "      <th>127</th>\n",
       "      <td>6.1</td>\n",
       "      <td>3.0</td>\n",
       "      <td>4.9</td>\n",
       "      <td>1.8</td>\n",
       "      <td>Iris-virginica</td>\n",
       "      <td>Iris-versicolor</td>\n",
       "      <td>-0.2</td>\n",
       "      <td>0.0</td>\n",
       "      <td>0.200000</td>\n",
       "    </tr>\n",
       "    <tr>\n",
       "      <th>134</th>\n",
       "      <td>6.1</td>\n",
       "      <td>2.6</td>\n",
       "      <td>5.6</td>\n",
       "      <td>1.4</td>\n",
       "      <td>Iris-virginica</td>\n",
       "      <td>Iris-versicolor</td>\n",
       "      <td>-0.2</td>\n",
       "      <td>0.4</td>\n",
       "      <td>0.447214</td>\n",
       "    </tr>\n",
       "    <tr>\n",
       "      <th>140</th>\n",
       "      <td>6.7</td>\n",
       "      <td>3.1</td>\n",
       "      <td>5.6</td>\n",
       "      <td>2.4</td>\n",
       "      <td>Iris-virginica</td>\n",
       "      <td>Iris-versicolor</td>\n",
       "      <td>-0.8</td>\n",
       "      <td>-0.1</td>\n",
       "      <td>0.806226</td>\n",
       "    </tr>\n",
       "  </tbody>\n",
       "</table>\n",
       "</div>"
      ],
      "text/plain": [
       "     s_length  s_width  p_length  p_width          i_class         majority  \\\n",
       "41        4.5      2.3       1.3      0.3      Iris-setosa  Iris-versicolor   \n",
       "50        7.0      3.2       4.7      1.4  Iris-versicolor   Iris-virginica   \n",
       "51        6.4      3.2       4.5      1.5  Iris-versicolor   Iris-virginica   \n",
       "52        6.9      3.1       4.9      1.5  Iris-versicolor   Iris-virginica   \n",
       "54        6.5      2.8       4.6      1.5  Iris-versicolor   Iris-virginica   \n",
       "56        6.3      3.3       4.7      1.6  Iris-versicolor   Iris-virginica   \n",
       "61        5.9      3.0       4.2      1.5  Iris-versicolor   Iris-virginica   \n",
       "67        5.8      2.7       4.1      1.0  Iris-versicolor   Iris-virginica   \n",
       "72        6.3      2.5       4.9      1.5  Iris-versicolor   Iris-virginica   \n",
       "74        6.4      2.9       4.3      1.3  Iris-versicolor   Iris-virginica   \n",
       "75        6.6      3.0       4.4      1.4  Iris-versicolor   Iris-virginica   \n",
       "77        6.7      3.0       5.0      1.7  Iris-versicolor   Iris-virginica   \n",
       "82        5.8      2.7       3.9      1.2  Iris-versicolor   Iris-virginica   \n",
       "97        6.2      2.9       4.3      1.3  Iris-versicolor   Iris-virginica   \n",
       "106       4.9      2.5       4.5      1.7   Iris-virginica  Iris-versicolor   \n",
       "113       5.7      2.5       5.0      2.0   Iris-virginica  Iris-versicolor   \n",
       "114       5.8      2.8       5.1      2.4   Iris-virginica  Iris-versicolor   \n",
       "119       6.0      2.2       5.0      1.5   Iris-virginica  Iris-versicolor   \n",
       "121       5.6      2.8       4.9      2.0   Iris-virginica  Iris-versicolor   \n",
       "126       6.2      2.8       4.8      1.8   Iris-virginica  Iris-versicolor   \n",
       "127       6.1      3.0       4.9      1.8   Iris-virginica  Iris-versicolor   \n",
       "134       6.1      2.6       5.6      1.4   Iris-virginica  Iris-versicolor   \n",
       "140       6.7      3.1       5.6      2.4   Iris-virginica  Iris-versicolor   \n",
       "\n",
       "     length_dif  width_dif      dist  \n",
       "41          1.4        0.7  1.565248  \n",
       "50         -1.1       -0.2  1.118034  \n",
       "51         -0.5       -0.2  0.538516  \n",
       "52         -1.0       -0.1  1.004988  \n",
       "54         -0.6        0.2  0.632456  \n",
       "56         -0.4       -0.3  0.500000  \n",
       "61          0.0        0.0  0.000000  \n",
       "67          0.1        0.3  0.316228  \n",
       "72         -0.4        0.5  0.640312  \n",
       "74         -0.5        0.1  0.509902  \n",
       "75         -0.7        0.0  0.700000  \n",
       "77         -0.8        0.0  0.800000  \n",
       "82          0.1        0.3  0.316228  \n",
       "97         -0.3        0.1  0.316228  \n",
       "106         1.0        0.5  1.118034  \n",
       "113         0.2        0.5  0.538516  \n",
       "114         0.1        0.2  0.223607  \n",
       "119        -0.1        0.8  0.806226  \n",
       "121         0.3        0.2  0.360555  \n",
       "126        -0.3        0.2  0.360555  \n",
       "127        -0.2        0.0  0.200000  \n",
       "134        -0.2        0.4  0.447214  \n",
       "140        -0.8       -0.1  0.806226  "
      ]
     },
     "execution_count": 109,
     "metadata": {},
     "output_type": "execute_result"
    }
   ],
   "source": [
    "df[df['i_class'] != df['majority']]"
   ]
  },
  {
   "cell_type": "code",
   "execution_count": 116,
   "metadata": {
    "collapsed": false
   },
   "outputs": [
    {
     "data": {
      "image/png": "[encoded data removed]",
      "text/plain": [
       "<matplotlib.figure.Figure at 0xabca208>"
      ]
     },
     "metadata": {},
     "output_type": "display_data"
    }
   ],
   "source": [
    "df1 = df[df['i_class'] != df['majority']]\n",
    "y = df1['s_width']\n",
    "x = df1['s_length']\n",
    "plt.scatter(x,y, color = 'red')\n",
    "\n",
    "df2 = df[df['i_class'] == df['majority']]\n",
    "y2 = df2['s_width']\n",
    "x2 = df2['s_length']\n",
    "plt.scatter(x2,y2, color = 'green')\n",
    "\n",
    "plt.title('Iris Graph')\n",
    "plt.xlabel('Sepal Length')\n",
    "plt.ylabel('Sepal Width')\n",
    "red_patch = mpatches.Patch(color='red', label='Missed')\n",
    "green_patch = mpatches.Patch(color='green', label = 'Hit')\n",
    "plt.legend(handles=[red_patch, green_patch])\n",
    "plt.show()"
   ]
  },
  {
   "cell_type": "code",
   "execution_count": null,
   "metadata": {
    "collapsed": true
   },
   "outputs": [],
   "source": []
  }
 ],
 "metadata": {
  "kernelspec": {
   "display_name": "Python 2",
   "language": "python",
   "name": "python2"
  },
  "language_info": {
   "codemirror_mode": {
    "name": "ipython",
    "version": 2
   },
   "file_extension": ".py",
   "mimetype": "text/x-python",
   "name": "python",
   "nbconvert_exporter": "python",
   "pygments_lexer": "ipython2",
   "version": "2.7.12"
  }
 },
 "nbformat": 4,
 "nbformat_minor": 0
}
