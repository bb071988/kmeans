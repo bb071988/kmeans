{
 "cells": [
  {
   "cell_type": "code",
   "execution_count": 2,
   "metadata": {
    "collapsed": true
   },
   "outputs": [],
   "source": [
    "%matplotlib inline"
   ]
  },
  {
   "cell_type": "code",
   "execution_count": 3,
   "metadata": {
    "collapsed": true
   },
   "outputs": [],
   "source": [
    "import pandas as pd\n",
    "import numpy as np\n",
    "import matplotlib.pyplot as plt\n",
    "import matplotlib.patches as mpatches\n"
   ]
  },
  {
   "cell_type": "code",
   "execution_count": 4,
   "metadata": {
    "collapsed": false
   },
   "outputs": [],
   "source": [
    "df = pd.read_csv('UN.csv')"
   ]
  },
  {
   "cell_type": "code",
   "execution_count": 5,
   "metadata": {
    "collapsed": false
   },
   "outputs": [
    {
     "data": {
      "text/html": [
       "<div>\n",
       "<table border=\"1\" class=\"dataframe\">\n",
       "  <thead>\n",
       "    <tr style=\"text-align: right;\">\n",
       "      <th></th>\n",
       "      <th>country</th>\n",
       "      <th>region</th>\n",
       "      <th>tfr</th>\n",
       "      <th>contraception</th>\n",
       "      <th>educationMale</th>\n",
       "      <th>educationFemale</th>\n",
       "      <th>lifeMale</th>\n",
       "      <th>lifeFemale</th>\n",
       "      <th>infantMortality</th>\n",
       "      <th>GDPperCapita</th>\n",
       "      <th>economicActivityMale</th>\n",
       "      <th>economicActivityFemale</th>\n",
       "      <th>illiteracyMale</th>\n",
       "      <th>illiteracyFemale</th>\n",
       "    </tr>\n",
       "  </thead>\n",
       "  <tbody>\n",
       "    <tr>\n",
       "      <th>0</th>\n",
       "      <td>Afghanistan</td>\n",
       "      <td>Asia</td>\n",
       "      <td>6.90</td>\n",
       "      <td>NaN</td>\n",
       "      <td>NaN</td>\n",
       "      <td>NaN</td>\n",
       "      <td>45.0</td>\n",
       "      <td>46.0</td>\n",
       "      <td>154</td>\n",
       "      <td>2848</td>\n",
       "      <td>87.5</td>\n",
       "      <td>7.2</td>\n",
       "      <td>52.800</td>\n",
       "      <td>85.00</td>\n",
       "    </tr>\n",
       "    <tr>\n",
       "      <th>1</th>\n",
       "      <td>Albania</td>\n",
       "      <td>Europe</td>\n",
       "      <td>2.60</td>\n",
       "      <td>NaN</td>\n",
       "      <td>NaN</td>\n",
       "      <td>NaN</td>\n",
       "      <td>68.0</td>\n",
       "      <td>74.0</td>\n",
       "      <td>32</td>\n",
       "      <td>863</td>\n",
       "      <td>NaN</td>\n",
       "      <td>NaN</td>\n",
       "      <td>NaN</td>\n",
       "      <td>NaN</td>\n",
       "    </tr>\n",
       "    <tr>\n",
       "      <th>2</th>\n",
       "      <td>Algeria</td>\n",
       "      <td>Africa</td>\n",
       "      <td>3.81</td>\n",
       "      <td>52</td>\n",
       "      <td>11.1</td>\n",
       "      <td>9.9</td>\n",
       "      <td>67.5</td>\n",
       "      <td>70.3</td>\n",
       "      <td>44</td>\n",
       "      <td>1531</td>\n",
       "      <td>76.4</td>\n",
       "      <td>7.8</td>\n",
       "      <td>26.100</td>\n",
       "      <td>51.00</td>\n",
       "    </tr>\n",
       "    <tr>\n",
       "      <th>3</th>\n",
       "      <td>American.Samoa</td>\n",
       "      <td>Asia</td>\n",
       "      <td>NaN</td>\n",
       "      <td>NaN</td>\n",
       "      <td>NaN</td>\n",
       "      <td>NaN</td>\n",
       "      <td>68.0</td>\n",
       "      <td>73.0</td>\n",
       "      <td>11</td>\n",
       "      <td>NaN</td>\n",
       "      <td>58.8</td>\n",
       "      <td>42.4</td>\n",
       "      <td>0.264</td>\n",
       "      <td>0.36</td>\n",
       "    </tr>\n",
       "    <tr>\n",
       "      <th>4</th>\n",
       "      <td>Andorra</td>\n",
       "      <td>Europe</td>\n",
       "      <td>NaN</td>\n",
       "      <td>NaN</td>\n",
       "      <td>NaN</td>\n",
       "      <td>NaN</td>\n",
       "      <td>NaN</td>\n",
       "      <td>NaN</td>\n",
       "      <td>NaN</td>\n",
       "      <td>NaN</td>\n",
       "      <td>NaN</td>\n",
       "      <td>NaN</td>\n",
       "      <td>NaN</td>\n",
       "      <td>NaN</td>\n",
       "    </tr>\n",
       "  </tbody>\n",
       "</table>\n",
       "</div>"
      ],
      "text/plain": [
       "          country  region   tfr  contraception  educationMale  \\\n",
       "0     Afghanistan    Asia  6.90            NaN            NaN   \n",
       "1         Albania  Europe  2.60            NaN            NaN   \n",
       "2         Algeria  Africa  3.81             52           11.1   \n",
       "3  American.Samoa    Asia   NaN            NaN            NaN   \n",
       "4         Andorra  Europe   NaN            NaN            NaN   \n",
       "\n",
       "   educationFemale  lifeMale  lifeFemale  infantMortality  GDPperCapita  \\\n",
       "0              NaN      45.0        46.0              154          2848   \n",
       "1              NaN      68.0        74.0               32           863   \n",
       "2              9.9      67.5        70.3               44          1531   \n",
       "3              NaN      68.0        73.0               11           NaN   \n",
       "4              NaN       NaN         NaN              NaN           NaN   \n",
       "\n",
       "   economicActivityMale  economicActivityFemale  illiteracyMale  \\\n",
       "0                  87.5                     7.2          52.800   \n",
       "1                   NaN                     NaN             NaN   \n",
       "2                  76.4                     7.8          26.100   \n",
       "3                  58.8                    42.4           0.264   \n",
       "4                   NaN                     NaN             NaN   \n",
       "\n",
       "   illiteracyFemale  \n",
       "0             85.00  \n",
       "1               NaN  \n",
       "2             51.00  \n",
       "3              0.36  \n",
       "4               NaN  "
      ]
     },
     "execution_count": 5,
     "metadata": {},
     "output_type": "execute_result"
    }
   ],
   "source": [
    "df.head()"
   ]
  },
  {
   "cell_type": "code",
   "execution_count": 6,
   "metadata": {
    "collapsed": false
   },
   "outputs": [
    {
     "name": "stdout",
     "output_type": "stream",
     "text": [
      "total rows 207\n"
     ]
    }
   ],
   "source": [
    "rows = df.shape[0]\n",
    "print('total rows {}'.format(rows))"
   ]
  },
  {
   "cell_type": "code",
   "execution_count": 7,
   "metadata": {
    "collapsed": false
   },
   "outputs": [
    {
     "data": {
      "text/plain": [
       "country                   207\n",
       "region                    207\n",
       "tfr                       197\n",
       "contraception             144\n",
       "educationMale              76\n",
       "educationFemale            76\n",
       "lifeMale                  196\n",
       "lifeFemale                196\n",
       "infantMortality           201\n",
       "GDPperCapita              197\n",
       "economicActivityMale      165\n",
       "economicActivityFemale    165\n",
       "illiteracyMale            160\n",
       "illiteracyFemale          160\n",
       "dtype: int64"
      ]
     },
     "execution_count": 7,
     "metadata": {},
     "output_type": "execute_result"
    }
   ],
   "source": [
    "rows - df.isnull().sum()"
   ]
  },
  {
   "cell_type": "code",
   "execution_count": 8,
   "metadata": {
    "collapsed": true
   },
   "outputs": [],
   "source": [
    "# best to cluster on infantmortality, lifeMale, lifeFemale"
   ]
  },
  {
   "cell_type": "code",
   "execution_count": 9,
   "metadata": {
    "collapsed": false
   },
   "outputs": [
    {
     "name": "stdout",
     "output_type": "stream",
     "text": [
      "country : object\n",
      "region : object\n",
      "tfr : float64\n",
      "contraception : float64\n",
      "educationMale : float64\n",
      "educationFemale : float64\n",
      "lifeMale : float64\n",
      "lifeFemale : float64\n",
      "infantMortality : float64\n",
      "GDPperCapita : float64\n",
      "economicActivityMale : float64\n",
      "economicActivityFemale : float64\n",
      "illiteracyMale : float64\n",
      "illiteracyFemale : float64\n"
     ]
    }
   ],
   "source": [
    "for col in df.columns.values:\n",
    "    print('{} : {}'.format(col, df[col].dtype))"
   ]
  },
  {
   "cell_type": "code",
   "execution_count": 10,
   "metadata": {
    "collapsed": false
   },
   "outputs": [
    {
     "data": {
      "text/plain": [
       "207"
      ]
     },
     "execution_count": 10,
     "metadata": {},
     "output_type": "execute_result"
    }
   ],
   "source": [
    "len(df['country'].unique()) # unique returns list.  len gives length. Prevents counting duplicates."
   ]
  },
  {
   "cell_type": "code",
   "execution_count": 11,
   "metadata": {
    "collapsed": true
   },
   "outputs": [],
   "source": [
    "#Apply scipy.cluster.vq.kmeans 1 to 10 and determine the cluster centroids.\n"
   ]
  },
  {
   "cell_type": "code",
   "execution_count": 114,
   "metadata": {
    "collapsed": true
   },
   "outputs": [],
   "source": [
    "from scipy.cluster.vq import kmeans, whiten, vq"
   ]
  },
  {
   "cell_type": "code",
   "execution_count": 13,
   "metadata": {
    "collapsed": false
   },
   "outputs": [],
   "source": [
    "features = ['lifeMale','lifeFemale','infantMortality','GDPperCapita']"
   ]
  },
  {
   "cell_type": "code",
   "execution_count": 45,
   "metadata": {
    "collapsed": false
   },
   "outputs": [],
   "source": [
    "df_features = df[features]"
   ]
  },
  {
   "cell_type": "code",
   "execution_count": 46,
   "metadata": {
    "collapsed": false
   },
   "outputs": [
    {
     "data": {
      "text/html": [
       "<div>\n",
       "<table border=\"1\" class=\"dataframe\">\n",
       "  <thead>\n",
       "    <tr style=\"text-align: right;\">\n",
       "      <th></th>\n",
       "      <th>lifeMale</th>\n",
       "      <th>lifeFemale</th>\n",
       "      <th>infantMortality</th>\n",
       "      <th>GDPperCapita</th>\n",
       "    </tr>\n",
       "  </thead>\n",
       "  <tbody>\n",
       "    <tr>\n",
       "      <th>0</th>\n",
       "      <td>45.0</td>\n",
       "      <td>46.0</td>\n",
       "      <td>154</td>\n",
       "      <td>2848</td>\n",
       "    </tr>\n",
       "    <tr>\n",
       "      <th>1</th>\n",
       "      <td>68.0</td>\n",
       "      <td>74.0</td>\n",
       "      <td>32</td>\n",
       "      <td>863</td>\n",
       "    </tr>\n",
       "    <tr>\n",
       "      <th>2</th>\n",
       "      <td>67.5</td>\n",
       "      <td>70.3</td>\n",
       "      <td>44</td>\n",
       "      <td>1531</td>\n",
       "    </tr>\n",
       "    <tr>\n",
       "      <th>3</th>\n",
       "      <td>68.0</td>\n",
       "      <td>73.0</td>\n",
       "      <td>11</td>\n",
       "      <td>NaN</td>\n",
       "    </tr>\n",
       "    <tr>\n",
       "      <th>4</th>\n",
       "      <td>NaN</td>\n",
       "      <td>NaN</td>\n",
       "      <td>NaN</td>\n",
       "      <td>NaN</td>\n",
       "    </tr>\n",
       "  </tbody>\n",
       "</table>\n",
       "</div>"
      ],
      "text/plain": [
       "   lifeMale  lifeFemale  infantMortality  GDPperCapita\n",
       "0      45.0        46.0              154          2848\n",
       "1      68.0        74.0               32           863\n",
       "2      67.5        70.3               44          1531\n",
       "3      68.0        73.0               11           NaN\n",
       "4       NaN         NaN              NaN           NaN"
      ]
     },
     "execution_count": 46,
     "metadata": {},
     "output_type": "execute_result"
    }
   ],
   "source": [
    "df_features.head()"
   ]
  },
  {
   "cell_type": "code",
   "execution_count": 47,
   "metadata": {
    "collapsed": false
   },
   "outputs": [],
   "source": [
    "df_features_clean = df_features.dropna() "
   ]
  },
  {
   "cell_type": "code",
   "execution_count": 48,
   "metadata": {
    "collapsed": false
   },
   "outputs": [
    {
     "data": {
      "text/plain": [
       "(188, 4)"
      ]
     },
     "execution_count": 48,
     "metadata": {},
     "output_type": "execute_result"
    }
   ],
   "source": [
    "df_features_clean.shape"
   ]
  },
  {
   "cell_type": "code",
   "execution_count": 52,
   "metadata": {
    "collapsed": false
   },
   "outputs": [],
   "source": [
    "ar_whiten = whiten(df_features_clean)\n",
    "# whiten function normalizes the df"
   ]
  },
  {
   "cell_type": "code",
   "execution_count": 53,
   "metadata": {
    "collapsed": false
   },
   "outputs": [],
   "source": [
    "ar_centroids = kmeans(ar_whiten , 10) # this generates the codebook with whitened centroid values"
   ]
  },
  {
   "cell_type": "code",
   "execution_count": 56,
   "metadata": {
    "collapsed": false
   },
   "outputs": [
    {
     "data": {
      "text/plain": [
       "(array([[ 4.73891584,  4.46290713,  2.83381706,  0.03232314],\n",
       "        [ 7.57162724,  7.17220628,  0.22647459,  2.043228  ],\n",
       "        [ 5.92734851,  5.45905091,  1.87721552,  0.1585886 ],\n",
       "        [ 4.3559465 ,  4.06808367,  3.66364083,  0.07454862],\n",
       "        [ 6.7418259 ,  6.61355682,  0.56452935,  0.29259488],\n",
       "        [ 7.35584461,  7.09031481,  0.27066476,  1.15659281],\n",
       "        [ 6.63764845,  6.28846415,  1.14502418,  0.16406281],\n",
       "        [ 5.21459989,  4.89798179,  2.0980099 ,  0.09440701],\n",
       "        [ 7.61548268,  7.29104312,  0.14779155,  3.38829266],\n",
       "        [ 7.20375448,  6.85702375,  0.4618486 ,  0.30190503]]),\n",
       " 0.38931660538177959)"
      ]
     },
     "execution_count": 56,
     "metadata": {},
     "output_type": "execute_result"
    }
   ],
   "source": [
    "ar_centroids"
   ]
  },
  {
   "cell_type": "code",
   "execution_count": 121,
   "metadata": {
    "collapsed": false
   },
   "outputs": [],
   "source": [
    "centroid_vectors = vq(ar_whiten,ar_centroids[0])"
   ]
  },
  {
   "cell_type": "code",
   "execution_count": 124,
   "metadata": {
    "collapsed": false
   },
   "outputs": [
    {
     "data": {
      "text/plain": [
       "array([[<matplotlib.axes._subplots.AxesSubplot object at 0x000000000A24E160>]], dtype=object)"
      ]
     },
     "execution_count": 124,
     "metadata": {},
     "output_type": "execute_result"
    },
    {
     "data": {
      "image/png": "[encoded data removed]",
      "text/plain": [
       "<matplotlib.figure.Figure at 0x9e8bfd0>"
      ]
     },
     "metadata": {},
     "output_type": "display_data"
    }
   ],
   "source": [
    "pd.DataFrame(centroid_vectors[0]).hist()"
   ]
  },
  {
   "cell_type": "code",
   "execution_count": 58,
   "metadata": {
    "collapsed": false
   },
   "outputs": [
    {
     "data": {
      "text/html": [
       "<div>\n",
       "<table border=\"1\" class=\"dataframe\">\n",
       "  <thead>\n",
       "    <tr style=\"text-align: right;\">\n",
       "      <th></th>\n",
       "      <th>lifeMale</th>\n",
       "      <th>lifeFemale</th>\n",
       "      <th>infantMortality</th>\n",
       "      <th>GDPperCapita</th>\n",
       "    </tr>\n",
       "  </thead>\n",
       "  <tbody>\n",
       "    <tr>\n",
       "      <th>0</th>\n",
       "      <td>45.0</td>\n",
       "      <td>46.0</td>\n",
       "      <td>154</td>\n",
       "      <td>2848</td>\n",
       "    </tr>\n",
       "    <tr>\n",
       "      <th>1</th>\n",
       "      <td>68.0</td>\n",
       "      <td>74.0</td>\n",
       "      <td>32</td>\n",
       "      <td>863</td>\n",
       "    </tr>\n",
       "    <tr>\n",
       "      <th>2</th>\n",
       "      <td>67.5</td>\n",
       "      <td>70.3</td>\n",
       "      <td>44</td>\n",
       "      <td>1531</td>\n",
       "    </tr>\n",
       "    <tr>\n",
       "      <th>5</th>\n",
       "      <td>44.9</td>\n",
       "      <td>48.1</td>\n",
       "      <td>124</td>\n",
       "      <td>355</td>\n",
       "    </tr>\n",
       "    <tr>\n",
       "      <th>7</th>\n",
       "      <td>69.6</td>\n",
       "      <td>76.8</td>\n",
       "      <td>22</td>\n",
       "      <td>8055</td>\n",
       "    </tr>\n",
       "  </tbody>\n",
       "</table>\n",
       "</div>"
      ],
      "text/plain": [
       "   lifeMale  lifeFemale  infantMortality  GDPperCapita\n",
       "0      45.0        46.0              154          2848\n",
       "1      68.0        74.0               32           863\n",
       "2      67.5        70.3               44          1531\n",
       "5      44.9        48.1              124           355\n",
       "7      69.6        76.8               22          8055"
      ]
     },
     "execution_count": 58,
     "metadata": {},
     "output_type": "execute_result"
    }
   ],
   "source": [
    "df_features_clean.head()"
   ]
  },
  {
   "cell_type": "code",
   "execution_count": 59,
   "metadata": {
    "collapsed": true
   },
   "outputs": [],
   "source": [
    "ar_features_clean = np.array(df_features_clean)"
   ]
  },
  {
   "cell_type": "code",
   "execution_count": 120,
   "metadata": {
    "collapsed": false
   },
   "outputs": [
    {
     "name": "stdout",
     "output_type": "stream",
     "text": [
      "-14.1052778643\n",
      "Row 0 is in Centroid group 8\n",
      "1.0242525679\n",
      "Row 1 is in Centroid group 8\n",
      "1.01143188467\n",
      "Row 2 is in Centroid group 8\n",
      "-22.8443276779\n",
      "Row 3 is in Centroid group 8\n",
      "10.6995734475\n",
      "Row 4 is in Centroid group 8\n",
      "-2.16932536281\n",
      "Row 5 is in Centroid group 8\n",
      "29.9598363522\n",
      "Row 6 is in Centroid group 8\n",
      "37.3038661825\n",
      "Row 7 is in Centroid group 8\n",
      "-0.406680043864\n",
      "Row 8 is in Centroid group 8\n",
      "14.8762609296\n",
      "Row 9 is in Centroid group 8\n",
      "10.9878779008\n",
      "Row 10 is in Centroid group 8\n",
      "-12.1731640411\n",
      "Row 11 is in Centroid group 8\n",
      "12.1594420386\n",
      "Row 12 is in Centroid group 8\n",
      "-6.16271251618\n",
      "Row 13 is in Centroid group 8\n",
      "35.4925292983\n",
      "Row 14 is in Centroid group 8\n",
      "9.8399776265\n",
      "Row 15 is in Centroid group 8\n",
      "-17.2260601095\n",
      "Row 16 is in Centroid group 8\n",
      "-15.2207522233\n",
      "Row 17 is in Centroid group 8\n",
      "-8.30087200281\n",
      "Row 18 is in Centroid group 8\n",
      "-0.267991692119\n",
      "Row 19 is in Centroid group 8\n",
      "-29.33901995\n",
      "Row 20 is in Centroid group 8\n",
      "0.473375634661\n",
      "Row 21 is in Centroid group 8\n",
      "22.1056968543\n",
      "Row 22 is in Centroid group 8\n",
      "-1.75380788964\n",
      "Row 23 is in Centroid group 8\n",
      "-30.8086854497\n",
      "Row 24 is in Centroid group 8\n",
      "-24.3449697288\n",
      "Row 25 is in Centroid group 8\n",
      "-14.3034978063\n",
      "Row 26 is in Centroid group 8\n",
      "-21.5187216787\n",
      "Row 27 is in Centroid group 8\n",
      "29.9770381911\n",
      "Row 28 is in Centroid group 8\n",
      "-4.94041448329\n",
      "Row 29 is in Centroid group 8\n",
      "-25.8804204269\n",
      "Row 30 is in Centroid group 8\n",
      "-22.8383529225\n",
      "Row 31 is in Centroid group 8\n",
      "8.76120965862\n",
      "Row 32 is in Centroid group 8\n",
      "0.37875452636\n",
      "Row 33 is in Centroid group 8\n",
      "0.415100545072\n",
      "Row 34 is in Centroid group 8\n",
      "-12.3482675845\n",
      "Row 35 is in Centroid group 8\n",
      "-22.3027151662\n",
      "Row 36 is in Centroid group 8\n",
      "2.68949632581\n",
      "Row 37 is in Centroid group 8\n",
      "9.26995342276\n",
      "Row 38 is in Centroid group 8\n",
      "1.2596136225\n",
      "Row 39 is in Centroid group 8\n",
      "6.30318598702\n",
      "Row 40 is in Centroid group 8\n",
      "19.295944015\n",
      "Row 41 is in Centroid group 8\n",
      "2.77556333708\n",
      "Row 42 is in Centroid group 8\n",
      "-19.8106037307\n",
      "Row 43 is in Centroid group 8\n",
      "39.9244573933\n",
      "Row 44 is in Centroid group 8\n",
      "-19.4718344368\n",
      "Row 45 is in Centroid group 8\n",
      "2.36990440641\n",
      "Row 46 is in Centroid group 8\n",
      "3.35095536177\n",
      "Row 47 is in Centroid group 8\n",
      "-2.6106636423\n",
      "Row 48 is in Centroid group 8\n",
      "0.836523186843\n",
      "Row 49 is in Centroid group 8\n",
      "-20.450003139\n",
      "Row 50 is in Centroid group 8\n",
      "-21.9313377012\n",
      "Row 51 is in Centroid group 8\n",
      "-5.64761748021\n",
      "Row 52 is in Centroid group 8\n",
      "-20.7783318818\n",
      "Row 53 is in Centroid group 8\n",
      "3.34490954458\n",
      "Row 54 is in Centroid group 8\n",
      "31.211918274\n",
      "Row 55 is in Centroid group 8\n",
      "38.1324760467\n",
      "Row 56 is in Centroid group 8\n",
      "19.6216917346\n",
      "Row 57 is in Centroid group 8\n",
      "-10.3485568808\n",
      "Row 58 is in Centroid group 8\n",
      "-22.3448846588\n",
      "Row 59 is in Centroid group 8\n",
      "1.07229322469\n",
      "Row 60 is in Centroid group 8\n",
      "37.5205374131\n",
      "Row 61 is in Centroid group 8\n",
      "-13.7327484573\n",
      "Row 62 is in Centroid group 8\n",
      "17.2591918559\n",
      "Row 63 is in Centroid group 8\n",
      "12.6779246108\n",
      "Row 64 is in Centroid group 8\n",
      "-3.48709506348\n",
      "Row 65 is in Centroid group 8\n",
      "-22.6183497813\n",
      "Row 66 is in Centroid group 8\n",
      "-26.2096615035\n",
      "Row 67 is in Centroid group 8\n",
      "-4.99026608808\n",
      "Row 68 is in Centroid group 8\n",
      "-18.4242495555\n",
      "Row 69 is in Centroid group 8\n",
      "-0.437270407553\n",
      "Row 70 is in Centroid group 8\n",
      "34.1663176351\n",
      "Row 71 is in Centroid group 8\n",
      "-3.47748573634\n",
      "Row 72 is in Centroid group 8\n",
      "38.68286546\n",
      "Row 73 is in Centroid group 8\n",
      "-5.46980099754\n",
      "Row 74 is in Centroid group 8\n",
      "-5.80638725272\n",
      "Row 75 is in Centroid group 8\n",
      "0.48683779844\n",
      "Row 76 is in Centroid group 8\n",
      "12.6236987706\n",
      "Row 77 is in Centroid group 8\n",
      "23.9484295513\n",
      "Row 78 is in Centroid group 8\n",
      "25.2666739667\n",
      "Row 79 is in Centroid group 8\n",
      "29.052126642\n",
      "Row 80 is in Centroid group 8\n",
      "-23.2956502671\n",
      "Row 81 is in Centroid group 8\n",
      "3.92386377927\n",
      "Row 82 is in Centroid group 8\n",
      "56.8817967528\n",
      "Row 83 is in Centroid group 8\n",
      "-1.37714225687\n",
      "Row 84 is in Centroid group 8\n",
      "-4.97788287494\n",
      "Row 85 is in Centroid group 8\n",
      "-23.6512767015\n",
      "Row 86 is in Centroid group 8\n",
      "-10.8641220345\n",
      "Row 87 is in Centroid group 8\n",
      "-0.305264407998\n",
      "Row 88 is in Centroid group 8\n",
      "7.69818844296\n",
      "Row 89 is in Centroid group 8\n",
      "23.1585391314\n",
      "Row 90 is in Centroid group 8\n",
      "-4.36571150088\n",
      "Row 91 is in Centroid group 8\n",
      "-19.1448457214\n",
      "Row 92 is in Centroid group 8\n",
      "-7.43134558572\n",
      "Row 93 is in Centroid group 8\n",
      "0.803683407251\n",
      "Row 94 is in Centroid group 8\n",
      "-12.7673244779\n",
      "Row 95 is in Centroid group 8\n",
      "-4.86477161257\n",
      "Row 96 is in Centroid group 8\n",
      "2.35694386338\n",
      "Row 97 is in Centroid group 8\n",
      "-4.40655425947\n",
      "Row 98 is in Centroid group 8\n",
      "43.1917385464\n",
      "Row 99 is in Centroid group 8\n",
      "2.58194800456\n",
      "Row 100 is in Centroid group 8\n",
      "-11.9990160271\n",
      "Row 101 is in Centroid group 8\n",
      "-29.4722216937\n",
      "Row 102 is in Centroid group 8\n",
      "1.70148719546\n",
      "Row 103 is in Centroid group 8\n",
      "-6.37741536261\n",
      "Row 104 is in Centroid group 8\n",
      "-13.5695804815\n",
      "Row 105 is in Centroid group 8\n",
      "15.1060490661\n",
      "Row 106 is in Centroid group 8\n",
      "-18.6754659078\n",
      "Row 107 is in Centroid group 8\n",
      "19.4269748143\n",
      "Row 108 is in Centroid group 8\n",
      "-17.5626149498\n",
      "Row 109 is in Centroid group 8\n",
      "0.826963466926\n",
      "Row 110 is in Centroid group 8\n",
      "5.7203428767\n",
      "Row 111 is in Centroid group 8\n",
      "-9.05286035928\n",
      "Row 112 is in Centroid group 8\n",
      "-7.91803545597\n",
      "Row 113 is in Centroid group 8\n",
      "-4.19240733013\n",
      "Row 114 is in Centroid group 8\n",
      "-1.86813498644\n",
      "Row 115 is in Centroid group 8\n",
      "-25.88180694\n",
      "Row 116 is in Centroid group 8\n",
      "-6.12584598082\n",
      "Row 117 is in Centroid group 8\n",
      "-19.7315173513\n",
      "Row 118 is in Centroid group 8\n",
      "-12.7341255914\n",
      "Row 119 is in Centroid group 8\n",
      "35.2930608886\n",
      "Row 120 is in Centroid group 8\n",
      "14.8538813244\n",
      "Row 121 is in Centroid group 8\n",
      "22.9944245499\n",
      "Row 122 is in Centroid group 8\n",
      "24.5704784455\n",
      "Row 123 is in Centroid group 8\n",
      "-1.65270293151\n",
      "Row 124 is in Centroid group 8\n",
      "-21.6469568154\n",
      "Row 125 is in Centroid group 8\n",
      "-23.3382137944\n",
      "Row 126 is in Centroid group 8\n",
      "43.9377049547\n",
      "Row 127 is in Centroid group 8\n",
      "5.54255437389\n",
      "Row 128 is in Centroid group 8\n",
      "-1.81028521088\n",
      "Row 129 is in Centroid group 8\n",
      "-2.12086609677\n",
      "Row 130 is in Centroid group 8\n",
      "6.56812177211\n",
      "Row 131 is in Centroid group 8\n",
      "-16.119112972\n",
      "Row 132 is in Centroid group 8\n",
      "1.63017000542\n",
      "Row 133 is in Centroid group 8\n",
      "1.26446447881\n",
      "Row 134 is in Centroid group 8\n",
      "-2.81041918526\n",
      "Row 135 is in Centroid group 8\n",
      "-1.19504922906\n",
      "Row 136 is in Centroid group 8\n",
      "13.9046918444\n",
      "Row 137 is in Centroid group 8\n",
      "18.3314969454\n",
      "Row 138 is in Centroid group 8\n",
      "15.252029618\n",
      "Row 139 is in Centroid group 8\n",
      "15.1454763307\n",
      "Row 140 is in Centroid group 8\n",
      "-3.0086609925\n",
      "Row 141 is in Centroid group 8\n",
      "-13.0128157418\n",
      "Row 142 is in Centroid group 8\n",
      "-31.1555584425\n",
      "Row 143 is in Centroid group 8\n",
      "-0.200890117343\n",
      "Row 144 is in Centroid group 8\n",
      "0.747645336692\n",
      "Row 145 is in Centroid group 8\n",
      "4.86603647253\n",
      "Row 146 is in Centroid group 8\n",
      "6.5331483743\n",
      "Row 147 is in Centroid group 8\n",
      "-29.2699176139\n",
      "Row 148 is in Centroid group 8\n",
      "0.408785004651\n",
      "Row 149 is in Centroid group 8\n",
      "-28.5419326249\n",
      "Row 150 is in Centroid group 8\n",
      "34.0816958505\n",
      "Row 151 is in Centroid group 8\n",
      "-0.822187668871\n",
      "Row 152 is in Centroid group 8\n",
      "9.12473364631\n",
      "Row 153 is in Centroid group 8\n",
      "0.0484350989245\n",
      "Row 154 is in Centroid group 8\n",
      "-21.3891363465\n",
      "Row 155 is in Centroid group 8\n",
      "-3.16545623141\n",
      "Row 156 is in Centroid group 8\n",
      "22.8966523004\n",
      "Row 157 is in Centroid group 8\n",
      "0.70407355261\n",
      "Row 158 is in Centroid group 8\n",
      "-20.4747016647\n",
      "Row 159 is in Centroid group 8\n",
      "0.100008561549\n",
      "Row 160 is in Centroid group 8\n",
      "-10.9771502848\n",
      "Row 161 is in Centroid group 8\n",
      "37.1363062992\n",
      "Row 162 is in Centroid group 8\n",
      "55.295800649\n",
      "Row 163 is in Centroid group 8\n",
      "0.469197954138\n",
      "Row 164 is in Centroid group 8\n",
      "-0.939388742754\n",
      "Row 165 is in Centroid group 8\n",
      "-24.9708682262\n",
      "Row 166 is in Centroid group 8\n",
      "-0.478794520222\n",
      "Row 167 is in Centroid group 8\n",
      "-25.6195518359\n",
      "Row 168 is in Centroid group 8\n",
      "-9.14688018697\n",
      "Row 169 is in Centroid group 8\n",
      "5.56842954355\n",
      "Row 170 is in Centroid group 8\n",
      "1.04881314723\n",
      "Row 171 is in Centroid group 8\n",
      "2.69935928578\n",
      "Row 172 is in Centroid group 8\n",
      "-5.51087493933\n",
      "Row 173 is in Centroid group 8\n",
      "-35.576917344\n",
      "Row 174 is in Centroid group 8\n",
      "-7.2671453074\n",
      "Row 175 is in Centroid group 8\n",
      "23.8479155795\n",
      "Row 176 is in Centroid group 8\n",
      "26.5006241022\n",
      "Row 177 is in Centroid group 8\n",
      "33.9169510512\n",
      "Row 178 is in Centroid group 8\n",
      "6.0193425502\n",
      "Row 179 is in Centroid group 8\n",
      "-3.38417177874\n",
      "Row 180 is in Centroid group 8\n",
      "-3.57299816969\n",
      "Row 181 is in Centroid group 8\n",
      "4.72903297979\n",
      "Row 182 is in Centroid group 8\n",
      "-5.49871418122\n",
      "Row 183 is in Centroid group 8\n",
      "-11.6831902659\n",
      "Row 184 is in Centroid group 8\n",
      "1.38852095576\n",
      "Row 185 is in Centroid group 8\n",
      "-34.9639231512\n",
      "Row 186 is in Centroid group 8\n",
      "-32.8625151796\n",
      "Row 187 is in Centroid group 8\n"
     ]
    }
   ],
   "source": [
    "for row_cnt, val in enumerate(ar_whiten):\n",
    "    cast1 = ar_whiten[row_cnt] - ar_centroids[0]\n",
    "    print(cast1.sum())\n",
    "    centroid_group = min(enumerate(cast1), key = lambda x: sum(x[1]))[0]  # this lambda function will find the min\n",
    "    print(\"Row {} is in Centroid group {}\".format(row_cnt, centroid_group))"
   ]
  },
  {
   "cell_type": "code",
   "execution_count": null,
   "metadata": {
    "collapsed": true
   },
   "outputs": [],
   "source": []
  },
  {
   "cell_type": "code",
   "execution_count": null,
   "metadata": {
    "collapsed": true
   },
   "outputs": [],
   "source": []
  },
  {
   "cell_type": "code",
   "execution_count": null,
   "metadata": {
    "collapsed": true
   },
   "outputs": [],
   "source": []
  },
  {
   "cell_type": "code",
   "execution_count": 112,
   "metadata": {
    "collapsed": false
   },
   "outputs": [
    {
     "name": "stdout",
     "output_type": "stream",
     "text": [
      "Difference of features and whitened centroid values is least at 3074.55738999.     As such data row 0 is a member of centroid 8.\n",
      "Difference of features and whitened centroid values is least at 1018.55738999.     As such data row 1 is a member of centroid 8.\n",
      "Difference of features and whitened centroid values is least at 1694.35738999.     As such data row 2 is a member of centroid 8.\n",
      "Difference of features and whitened centroid values is least at 553.557389992.     As such data row 3 is a member of centroid 8.\n",
      "Difference of features and whitened centroid values is least at 8204.95738999.     As such data row 4 is a member of centroid 8.\n",
      "Difference of features and whitened centroid values is least at 501.757389992.     As such data row 5 is a member of centroid 8.\n",
      "Difference of features and whitened centroid values is least at 20190.15739.     As such data row 6 is a member of centroid 8.\n",
      "Difference of features and whitened centroid values is least at 29147.35739.     As such data row 7 is a member of centroid 8.\n",
      "Difference of features and whitened centroid values is least at 476.557389992.     As such data row 8 is a member of centroid 8.\n",
      "Difference of features and whitened centroid values is least at 12688.15739.     As such data row 9 is a member of centroid 8.\n",
      "Difference of features and whitened centroid values is least at 9218.95738999.     As such data row 10 is a member of centroid 8.\n",
      "Difference of features and whitened centroid values is least at 455.857389992.     As such data row 11 is a member of centroid 8.\n",
      "Difference of features and whitened centroid values is least at 7315.85738999.     As such data row 12 is a member of centroid 8.\n",
      "Difference of features and whitened centroid values is least at 1129.75738999.     As such data row 13 is a member of centroid 8.\n",
      "Difference of features and whitened centroid values is least at 26725.05739.     As such data row 14 is a member of centroid 8.\n",
      "Difference of features and whitened centroid values is least at 2730.05738999.     As such data row 15 is a member of centroid 8.\n",
      "Difference of features and whitened centroid values is least at 566.157389992.     As such data row 16 is a member of centroid 8.\n",
      "Difference of features and whitened centroid values is least at 358.057389992.     As such data row 17 is a member of centroid 8.\n",
      "Difference of features and whitened centroid values is least at 1079.55738999.     As such data row 18 is a member of centroid 8.\n",
      "Difference of features and whitened centroid values is least at 411.957389992.     As such data row 19 is a member of centroid 8.\n",
      "Difference of features and whitened centroid values is least at 3778.15738999.     As such data row 20 is a member of centroid 8.\n",
      "Difference of features and whitened centroid values is least at 4668.15738999.     As such data row 21 is a member of centroid 8.\n",
      "Difference of features and whitened centroid values is least at 16825.05739.     As such data row 22 is a member of centroid 8.\n",
      "Difference of features and whitened centroid values is least at 1658.25738999.     As such data row 23 is a member of centroid 8.\n",
      "Difference of features and whitened centroid values is least at 335.657389992.     As such data row 24 is a member of centroid 8.\n",
      "Difference of features and whitened centroid values is least at 394.857389992.     As such data row 25 is a member of centroid 8.\n",
      "Difference of features and whitened centroid values is least at 321.557389992.     As such data row 26 is a member of centroid 8.\n",
      "Difference of features and whitened centroid values is least at 778.257389992.     As such data row 27 is a member of centroid 8.\n",
      "Difference of features and whitened centroid values is least at 19088.45739.     As such data row 28 is a member of centroid 8.\n",
      "Difference of features and whitened centroid values is least at 1149.55738999.     As such data row 29 is a member of centroid 8.\n",
      "Difference of features and whitened centroid values is least at 553.957389992.     As such data row 30 is a member of centroid 8.\n",
      "Difference of features and whitened centroid values is least at 379.157389992.     As such data row 31 is a member of centroid 8.\n",
      "Difference of features and whitened centroid values is least at 4881.15738999.     As such data row 32 is a member of centroid 8.\n",
      "Difference of features and whitened centroid values is least at 741.457389992.     As such data row 33 is a member of centroid 8.\n",
      "Difference of features and whitened centroid values is least at 2362.45738999.     As such data row 34 is a member of centroid 8.\n",
      "Difference of features and whitened centroid values is least at 545.557389992.     As such data row 35 is a member of centroid 8.\n",
      "Difference of features and whitened centroid values is least at 1181.55738999.     As such data row 36 is a member of centroid 8.\n",
      "Difference of features and whitened centroid values is least at 5579.55738999.     As such data row 37 is a member of centroid 8.\n",
      "Difference of features and whitened centroid values is least at 2843.25738999.     As such data row 38 is a member of centroid 8.\n",
      "Difference of features and whitened centroid values is least at 4150.15738999.     As such data row 39 is a member of centroid 8.\n",
      "Difference of features and whitened centroid values is least at 2125.75738999.     As such data row 40 is a member of centroid 8.\n",
      "Difference of features and whitened centroid values is least at 11602.75739.     As such data row 41 is a member of centroid 8.\n",
      "Difference of features and whitened centroid values is least at 4586.35738999.     As such data row 42 is a member of centroid 8.\n",
      "Difference of features and whitened centroid values is least at 293.357389992.     As such data row 43 is a member of centroid 8.\n",
      "Difference of features and whitened centroid values is least at 33330.85739.     As such data row 44 is a member of centroid 8.\n",
      "Difference of features and whitened centroid values is least at 1081.25738999.     As such data row 45 is a member of centroid 8.\n",
      "Difference of features and whitened centroid values is least at 1665.55738999.     As such data row 46 is a member of centroid 8.\n",
      "Difference of features and whitened centroid values is least at 1732.35738999.     As such data row 47 is a member of centroid 8.\n",
      "Difference of features and whitened centroid values is least at 1140.55738999.     As such data row 48 is a member of centroid 8.\n",
      "Difference of features and whitened centroid values is least at 1819.55738999.     As such data row 49 is a member of centroid 8.\n",
      "Difference of features and whitened centroid values is least at 576.557389992.     As such data row 50 is a member of centroid 8.\n",
      "Difference of features and whitened centroid values is least at 276.757389992.     As such data row 51 is a member of centroid 8.\n",
      "Difference of features and whitened centroid values is least at 2565.45738999.     As such data row 52 is a member of centroid 8.\n",
      "Difference of features and whitened centroid values is least at 284.557389992.     As such data row 53 is a member of centroid 8.\n",
      "Difference of features and whitened centroid values is least at 2740.05738999.     As such data row 54 is a member of centroid 8.\n",
      "Difference of features and whitened centroid values is least at 24592.65739.     As such data row 55 is a member of centroid 8.\n",
      "Difference of features and whitened centroid values is least at 26590.05739.     As such data row 56 is a member of centroid 8.\n",
      "Difference of features and whitened centroid values is least at 19902.65739.     As such data row 57 is a member of centroid 8.\n",
      "Difference of features and whitened centroid values is least at 5184.55738999.     As such data row 58 is a member of centroid 8.\n",
      "Difference of features and whitened centroid values is least at 518.657389992.     As such data row 59 is a member of centroid 8.\n",
      "Difference of features and whitened centroid values is least at 492.757389992.     As such data row 60 is a member of centroid 8.\n",
      "Difference of features and whitened centroid values is least at 29772.85739.     As such data row 61 is a member of centroid 8.\n",
      "Difference of features and whitened centroid values is least at 567.657389992.     As such data row 62 is a member of centroid 8.\n",
      "Difference of features and whitened centroid values is least at 8829.65738999.     As such data row 63 is a member of centroid 8.\n",
      "Difference of features and whitened centroid values is least at 9285.45738999.     As such data row 64 is a member of centroid 8.\n",
      "Difference of features and whitened centroid values is least at 1548.05738999.     As such data row 65 is a member of centroid 8.\n",
      "Difference of features and whitened centroid values is least at 640.557389992.     As such data row 66 is a member of centroid 8.\n",
      "Difference of features and whitened centroid values is least at 332.157389992.     As such data row 67 is a member of centroid 8.\n",
      "Difference of features and whitened centroid values is least at 894.557389992.     As such data row 68 is a member of centroid 8.\n",
      "Difference of features and whitened centroid values is least at 558.357389992.     As such data row 69 is a member of centroid 8.\n",
      "Difference of features and whitened centroid values is least at 853.357389992.     As such data row 70 is a member of centroid 8.\n",
      "Difference of features and whitened centroid values is least at 23042.45739.     As such data row 71 is a member of centroid 8.\n",
      "Difference of features and whitened centroid values is least at 4458.85738999.     As such data row 72 is a member of centroid 8.\n",
      "Difference of features and whitened centroid values is least at 26362.15739.     As such data row 73 is a member of centroid 8.\n",
      "Difference of features and whitened centroid values is least at 543.357389992.     As such data row 74 is a member of centroid 8.\n",
      "Difference of features and whitened centroid values is least at 1178.85738999.     As such data row 75 is a member of centroid 8.\n",
      "Difference of features and whitened centroid values is least at 1703.05738999.     As such data row 76 is a member of centroid 8.\n",
      "Difference of features and whitened centroid values is least at 11509.35739.     As such data row 77 is a member of centroid 8.\n",
      "Difference of features and whitened centroid values is least at 17559.95739.     As such data row 78 is a member of centroid 8.\n",
      "Difference of features and whitened centroid values is least at 16881.75739.     As such data row 79 is a member of centroid 8.\n",
      "Difference of features and whitened centroid values is least at 19266.05739.     As such data row 80 is a member of centroid 8.\n",
      "Difference of features and whitened centroid values is least at 905.757389992.     As such data row 81 is a member of centroid 8.\n",
      "Difference of features and whitened centroid values is least at 1921.75738999.     As such data row 82 is a member of centroid 8.\n",
      "Difference of features and whitened centroid values is least at 41863.35739.     As such data row 83 is a member of centroid 8.\n",
      "Difference of features and whitened centroid values is least at 1379.05738999.     As such data row 84 is a member of centroid 8.\n",
      "Difference of features and whitened centroid values is least at 1145.85738999.     As such data row 85 is a member of centroid 8.\n",
      "Difference of features and whitened centroid values is least at 484.557389992.     As such data row 86 is a member of centroid 8.\n",
      "Difference of features and whitened centroid values is least at 821.557389992.     As such data row 87 is a member of centroid 8.\n",
      "Difference of features and whitened centroid values is least at 418.557389992.     As such data row 88 is a member of centroid 8.\n",
      "Difference of features and whitened centroid values is least at 9871.35738999.     As such data row 89 is a member of centroid 8.\n",
      "Difference of features and whitened centroid values is least at 15904.85739.     As such data row 90 is a member of centroid 8.\n",
      "Difference of features and whitened centroid values is least at 486.857389992.     As such data row 91 is a member of centroid 8.\n",
      "Difference of features and whitened centroid values is least at 533.557389992.     As such data row 92 is a member of centroid 8.\n",
      "Difference of features and whitened centroid values is least at 1898.35738999.     As such data row 93 is a member of centroid 8.\n",
      "Difference of features and whitened centroid values is least at 3264.35738999.     As such data row 94 is a member of centroid 8.\n",
      "Difference of features and whitened centroid values is least at 656.757389992.     As such data row 95 is a member of centroid 8.\n",
      "Difference of features and whitened centroid values is least at 1361.55738999.     As such data row 96 is a member of centroid 8.\n",
      "Difference of features and whitened centroid values is least at 5666.95738999.     As such data row 97 is a member of centroid 8.\n",
      "Difference of features and whitened centroid values is least at 1730.45738999.     As such data row 98 is a member of centroid 8.\n",
      "Difference of features and whitened centroid values is least at 35249.35739.     As such data row 99 is a member of centroid 8.\n",
      "Difference of features and whitened centroid values is least at 1809.55738999.     As such data row 100 is a member of centroid 8.\n",
      "Difference of features and whitened centroid values is least at 390.557389992.     As such data row 101 is a member of centroid 8.\n",
      "Difference of features and whitened centroid values is least at 346.957389992.     As such data row 102 is a member of centroid 8.\n",
      "Difference of features and whitened centroid values is least at 4449.75738999.     As such data row 103 is a member of centroid 8.\n",
      "Difference of features and whitened centroid values is least at 1238.55738999.     As such data row 104 is a member of centroid 8.\n",
      "Difference of features and whitened centroid values is least at 449.657389992.     As such data row 105 is a member of centroid 8.\n",
      "Difference of features and whitened centroid values is least at 8936.25738999.     As such data row 106 is a member of centroid 8.\n",
      "Difference of features and whitened centroid values is least at 1778.65738999.     As such data row 107 is a member of centroid 8.\n",
      "Difference of features and whitened centroid values is least at 12859.55739.     As such data row 108 is a member of centroid 8.\n",
      "Difference of features and whitened centroid values is least at 581.557389992.     As such data row 109 is a member of centroid 8.\n",
      "Difference of features and whitened centroid values is least at 3647.85738999.     As such data row 110 is a member of centroid 8.\n",
      "Difference of features and whitened centroid values is least at 2857.55738999.     As such data row 111 is a member of centroid 8.\n",
      "Difference of features and whitened centroid values is least at 2238.75738999.     As such data row 112 is a member of centroid 8.\n",
      "Difference of features and whitened centroid values is least at 525.557389992.     As such data row 113 is a member of centroid 8.\n",
      "Difference of features and whitened centroid values is least at 553.157389992.     As such data row 114 is a member of centroid 8.\n",
      "Difference of features and whitened centroid values is least at 1430.85738999.     As such data row 115 is a member of centroid 8.\n",
      "Difference of features and whitened centroid values is least at 262.457389992.     As such data row 116 is a member of centroid 8.\n",
      "Difference of features and whitened centroid values is least at 2578.85738999.     As such data row 117 is a member of centroid 8.\n",
      "Difference of features and whitened centroid values is least at 2211.85738999.     As such data row 118 is a member of centroid 8.\n",
      "Difference of features and whitened centroid values is least at 381.257389992.     As such data row 119 is a member of centroid 8.\n",
      "Difference of features and whitened centroid values is least at 25778.15739.     As such data row 120 is a member of centroid 8.\n",
      "Difference of features and whitened centroid values is least at 9183.25738999.     As such data row 121 is a member of centroid 8.\n",
      "Difference of features and whitened centroid values is least at 19596.35739.     As such data row 122 is a member of centroid 8.\n",
      "Difference of features and whitened centroid values is least at 17008.95739.     As such data row 123 is a member of centroid 8.\n",
      "Difference of features and whitened centroid values is least at 625.957389992.     As such data row 124 is a member of centroid 8.\n",
      "Difference of features and whitened centroid values is least at 399.657389992.     As such data row 125 is a member of centroid 8.\n",
      "Difference of features and whitened centroid values is least at 750.357389992.     As such data row 126 is a member of centroid 8.\n",
      "Difference of features and whitened centroid values is least at 33875.95739.     As such data row 127 is a member of centroid 8.\n",
      "Difference of features and whitened centroid values is least at 6380.75738999.     As such data row 128 is a member of centroid 8.\n",
      "Difference of features and whitened centroid values is least at 687.557389992.     As such data row 129 is a member of centroid 8.\n",
      "Difference of features and whitened centroid values is least at 6557.55738999.     As such data row 130 is a member of centroid 8.\n",
      "Difference of features and whitened centroid values is least at 3084.75738999.     As such data row 131 is a member of centroid 8.\n",
      "Difference of features and whitened centroid values is least at 1241.45738999.     As such data row 132 is a member of centroid 8.\n",
      "Difference of features and whitened centroid values is least at 2020.05738999.     As such data row 133 is a member of centroid 8.\n",
      "Difference of features and whitened centroid values is least at 2660.35738999.     As such data row 134 is a member of centroid 8.\n",
      "Difference of features and whitened centroid values is least at 1246.35738999.     As such data row 135 is a member of centroid 8.\n",
      "Difference of features and whitened centroid values is least at 3194.95738999.     As such data row 136 is a member of centroid 8.\n",
      "Difference of features and whitened centroid values is least at 10568.25739.     As such data row 137 is a member of centroid 8.\n",
      "Difference of features and whitened centroid values is least at 12356.55739.     As such data row 138 is a member of centroid 8.\n",
      "Difference of features and whitened centroid values is least at 14156.95739.     As such data row 139 is a member of centroid 8.\n",
      "Difference of features and whitened centroid values is least at 11993.25739.     As such data row 140 is a member of centroid 8.\n",
      "Difference of features and whitened centroid values is least at 1714.75738999.     As such data row 141 is a member of centroid 8.\n",
      "Difference of features and whitened centroid values is least at 2581.05738999.     As such data row 142 is a member of centroid 8.\n",
      "Difference of features and whitened centroid values is least at 428.757389992.     As such data row 143 is a member of centroid 8.\n",
      "Difference of features and whitened centroid values is least at 4963.35738999.     As such data row 144 is a member of centroid 8.\n",
      "Difference of features and whitened centroid values is least at 3325.35738999.     As such data row 145 is a member of centroid 8.\n",
      "Difference of features and whitened centroid values is least at 1284.15738999.     As such data row 146 is a member of centroid 8.\n",
      "Difference of features and whitened centroid values is least at 6730.85738999.     As such data row 147 is a member of centroid 8.\n",
      "Difference of features and whitened centroid values is least at 718.157389992.     As such data row 148 is a member of centroid 8.\n",
      "Difference of features and whitened centroid values is least at 7404.95738999.     As such data row 149 is a member of centroid 8.\n",
      "Difference of features and whitened centroid values is least at 518.657389992.     As such data row 150 is a member of centroid 8.\n",
      "Difference of features and whitened centroid values is least at 25722.15739.     As such data row 151 is a member of centroid 8.\n",
      "Difference of features and whitened centroid values is least at 3402.35738999.     As such data row 152 is a member of centroid 8.\n",
      "Difference of features and whitened centroid values is least at 9787.55738999.     As such data row 153 is a member of centroid 8.\n",
      "Difference of features and whitened centroid values is least at 834.057389992.     As such data row 154 is a member of centroid 8.\n",
      "Difference of features and whitened centroid values is least at 310.557389992.     As such data row 155 is a member of centroid 8.\n",
      "Difference of features and whitened centroid values is least at 3390.15738999.     As such data row 156 is a member of centroid 8.\n",
      "Difference of features and whitened centroid values is least at 14255.55739.     As such data row 157 is a member of centroid 8.\n",
      "Difference of features and whitened centroid values is least at 858.857389992.     As such data row 158 is a member of centroid 8.\n",
      "Difference of features and whitened centroid values is least at 198.557389992.     As such data row 159 is a member of centroid 8.\n",
      "Difference of features and whitened centroid values is least at 1115.55738999.     As such data row 160 is a member of centroid 8.\n",
      "Difference of features and whitened centroid values is least at 1555.55738999.     As such data row 161 is a member of centroid 8.\n",
      "Difference of features and whitened centroid values is least at 26396.55739.     As such data row 162 is a member of centroid 8.\n",
      "Difference of features and whitened centroid values is least at 42559.65739.     As such data row 163 is a member of centroid 8.\n",
      "Difference of features and whitened centroid values is least at 3725.45738999.     As such data row 164 is a member of centroid 8.\n",
      "Difference of features and whitened centroid values is least at 293.957389992.     As such data row 165 is a member of centroid 8.\n",
      "Difference of features and whitened centroid values is least at 303.357389992.     As such data row 166 is a member of centroid 8.\n",
      "Difference of features and whitened centroid values is least at 3046.15738999.     As such data row 167 is a member of centroid 8.\n",
      "Difference of features and whitened centroid values is least at 489.857389992.     As such data row 168 is a member of centroid 8.\n",
      "Difference of features and whitened centroid values is least at 1909.55738999.     As such data row 169 is a member of centroid 8.\n",
      "Difference of features and whitened centroid values is least at 4226.25738999.     As such data row 170 is a member of centroid 8.\n",
      "Difference of features and whitened centroid values is least at 2187.65738999.     As such data row 171 is a member of centroid 8.\n",
      "Difference of features and whitened centroid values is least at 2977.75738999.     As such data row 172 is a member of centroid 8.\n",
      "Difference of features and whitened centroid values is least at 488.757389992.     As such data row 173 is a member of centroid 8.\n",
      "Difference of features and whitened centroid values is least at 482.257389992.     As such data row 174 is a member of centroid 8.\n",
      "Difference of features and whitened centroid values is least at 831.157389992.     As such data row 175 is a member of centroid 8.\n",
      "Difference of features and whitened centroid values is least at 17836.95739.     As such data row 176 is a member of centroid 8.\n",
      "Difference of features and whitened centroid values is least at 19054.85739.     As such data row 177 is a member of centroid 8.\n",
      "Difference of features and whitened centroid values is least at 26179.05739.     As such data row 178 is a member of centroid 8.\n",
      "Difference of features and whitened centroid values is least at 5746.25738999.     As such data row 179 is a member of centroid 8.\n",
      "Difference of features and whitened centroid values is least at 594.557389992.     As such data row 180 is a member of centroid 8.\n",
      "Difference of features and whitened centroid values is least at 1443.55738999.     As such data row 181 is a member of centroid 8.\n",
      "Difference of features and whitened centroid values is least at 3644.25738999.     As such data row 182 is a member of centroid 8.\n",
      "Difference of features and whitened centroid values is least at 423.057389992.     As such data row 183 is a member of centroid 8.\n",
      "Difference of features and whitened centroid values is least at 909.357389992.     As such data row 184 is a member of centroid 8.\n",
      "Difference of features and whitened centroid values is least at 1632.65738999.     As such data row 185 is a member of centroid 8.\n",
      "Difference of features and whitened centroid values is least at 552.457389992.     As such data row 186 is a member of centroid 8.\n",
      "Difference of features and whitened centroid values is least at 932.557389992.     As such data row 187 is a member of centroid 8.\n"
     ]
    }
   ],
   "source": [
    "for data_counter, val in enumerate(ar_features_clean):\n",
    "\n",
    "    row_sub_sum= None\n",
    "    row_sub_sum_min = None\n",
    "    member_of = None\n",
    "    for centroid_counter, values in enumerate(ar_centroids[0]):\n",
    "    #     print(centroid_counter)\n",
    "        row_sub_sum = (ar_features_clean[data_counter] - ar_centroids[0][centroid_counter]).sum()\n",
    "#         print(row_sub_sum)\n",
    "        if centroid_counter == 0:\n",
    "            row_sub_sum_min = row_sub_sum\n",
    "            member_of = 0\n",
    "        elif row_sub_sum <= row_sub_sum_min: # what to do if equal?:\n",
    "            row_sub_sum_min = row_sub_sum\n",
    "            member_of = centroid_counter\n",
    "    print(\"Difference of features and whitened centroid values is least at {}. \\\n",
    "    As such data row {} is a member of centroid {}.\".format(row_sub_sum_min,data_counter,member_of))"
   ]
  },
  {
   "cell_type": "code",
   "execution_count": null,
   "metadata": {
    "collapsed": true
   },
   "outputs": [],
   "source": []
  },
  {
   "cell_type": "code",
   "execution_count": null,
   "metadata": {
    "collapsed": true
   },
   "outputs": [],
   "source": []
  },
  {
   "cell_type": "code",
   "execution_count": null,
   "metadata": {
    "collapsed": true
   },
   "outputs": [],
   "source": []
  },
  {
   "cell_type": "code",
   "execution_count": null,
   "metadata": {
    "collapsed": true
   },
   "outputs": [],
   "source": []
  },
  {
   "cell_type": "code",
   "execution_count": null,
   "metadata": {
    "collapsed": true
   },
   "outputs": [],
   "source": []
  },
  {
   "cell_type": "code",
   "execution_count": null,
   "metadata": {
    "collapsed": true
   },
   "outputs": [],
   "source": []
  },
  {
   "cell_type": "code",
   "execution_count": null,
   "metadata": {
    "collapsed": true
   },
   "outputs": [],
   "source": []
  },
  {
   "cell_type": "code",
   "execution_count": null,
   "metadata": {
    "collapsed": true
   },
   "outputs": [],
   "source": []
  },
  {
   "cell_type": "code",
   "execution_count": null,
   "metadata": {
    "collapsed": true
   },
   "outputs": [],
   "source": []
  },
  {
   "cell_type": "code",
   "execution_count": null,
   "metadata": {
    "collapsed": true
   },
   "outputs": [],
   "source": []
  },
  {
   "cell_type": "code",
   "execution_count": 24,
   "metadata": {
    "collapsed": true
   },
   "outputs": [],
   "source": [
    "# must need to whiten the df too - comparing whitened centroids to non-whitened df doesn't make seense."
   ]
  },
  {
   "cell_type": "code",
   "execution_count": 44,
   "metadata": {
    "collapsed": false
   },
   "outputs": [
    {
     "data": {
      "text/plain": [
       "lifeMale           0\n",
       "lifeFemale         0\n",
       "infantMortality    0\n",
       "GDPperCapita       0\n",
       "Name: 0, dtype: float64"
      ]
     },
     "execution_count": 44,
     "metadata": {},
     "output_type": "execute_result"
    }
   ],
   "source": [
    "dfcb.iloc[0] - arr10[0][0]"
   ]
  },
  {
   "cell_type": "code",
   "execution_count": null,
   "metadata": {
    "collapsed": true
   },
   "outputs": [],
   "source": []
  },
  {
   "cell_type": "code",
   "execution_count": null,
   "metadata": {
    "collapsed": true
   },
   "outputs": [],
   "source": []
  },
  {
   "cell_type": "code",
   "execution_count": 26,
   "metadata": {
    "collapsed": true
   },
   "outputs": [],
   "source": [
    "# experimental section\n"
   ]
  },
  {
   "cell_type": "code",
   "execution_count": 27,
   "metadata": {
    "collapsed": true
   },
   "outputs": [],
   "source": [
    "a1 = dfw2.iloc[0,]"
   ]
  },
  {
   "cell_type": "code",
   "execution_count": 28,
   "metadata": {
    "collapsed": false
   },
   "outputs": [
    {
     "data": {
      "text/plain": [
       "lifeMale             45\n",
       "lifeFemale           46\n",
       "infantMortality     154\n",
       "GDPperCapita       2848\n",
       "Name: 0, dtype: float64"
      ]
     },
     "execution_count": 28,
     "metadata": {},
     "output_type": "execute_result"
    }
   ],
   "source": [
    "a1\n"
   ]
  },
  {
   "cell_type": "code",
   "execution_count": 29,
   "metadata": {
    "collapsed": true
   },
   "outputs": [],
   "source": [
    "na1 = np.array(a1)"
   ]
  },
  {
   "cell_type": "code",
   "execution_count": 30,
   "metadata": {
    "collapsed": false
   },
   "outputs": [
    {
     "data": {
      "text/plain": [
       "(array([   45.,    46.,   154.,  2848.]),\n",
       " array([ 6.53455789,  6.61807942,  0.41244154,  0.25647872]))"
      ]
     },
     "execution_count": 30,
     "metadata": {},
     "output_type": "execute_result"
    }
   ],
   "source": [
    "na1 , arr10[0][0]"
   ]
  },
  {
   "cell_type": "code",
   "execution_count": 31,
   "metadata": {
    "collapsed": true
   },
   "outputs": [],
   "source": [
    "r1 = na1 - arr10[0][0]"
   ]
  },
  {
   "cell_type": "code",
   "execution_count": 32,
   "metadata": {
    "collapsed": false
   },
   "outputs": [
    {
     "data": {
      "text/plain": [
       "array([   38.46544211,    39.38192058,   153.58755846,  2847.74352128])"
      ]
     },
     "execution_count": 32,
     "metadata": {},
     "output_type": "execute_result"
    }
   ],
   "source": [
    "r1"
   ]
  },
  {
   "cell_type": "code",
   "execution_count": 95,
   "metadata": {
    "collapsed": false
   },
   "outputs": [
    {
     "data": {
      "text/plain": [
       "array([   45.,    46.,   154.,  2848.])"
      ]
     },
     "execution_count": 95,
     "metadata": {},
     "output_type": "execute_result"
    }
   ],
   "source": [
    "ar_features_clean[0]"
   ]
  },
  {
   "cell_type": "code",
   "execution_count": 96,
   "metadata": {
    "collapsed": false
   },
   "outputs": [
    {
     "data": {
      "text/plain": [
       "array([[ 4.73891584,  4.46290713,  2.83381706,  0.03232314],\n",
       "       [ 7.57162724,  7.17220628,  0.22647459,  2.043228  ],\n",
       "       [ 5.92734851,  5.45905091,  1.87721552,  0.1585886 ],\n",
       "       [ 4.3559465 ,  4.06808367,  3.66364083,  0.07454862],\n",
       "       [ 6.7418259 ,  6.61355682,  0.56452935,  0.29259488],\n",
       "       [ 7.35584461,  7.09031481,  0.27066476,  1.15659281],\n",
       "       [ 6.63764845,  6.28846415,  1.14502418,  0.16406281],\n",
       "       [ 5.21459989,  4.89798179,  2.0980099 ,  0.09440701],\n",
       "       [ 7.61548268,  7.29104312,  0.14779155,  3.38829266],\n",
       "       [ 7.20375448,  6.85702375,  0.4618486 ,  0.30190503]])"
      ]
     },
     "execution_count": 96,
     "metadata": {},
     "output_type": "execute_result"
    }
   ],
   "source": [
    "ar_centroids[0]"
   ]
  },
  {
   "cell_type": "code",
   "execution_count": 93,
   "metadata": {
    "collapsed": true
   },
   "outputs": [],
   "source": [
    "cast1 = ar_features_clean[0] - ar_centroids[0]"
   ]
  },
  {
   "cell_type": "code",
   "execution_count": 99,
   "metadata": {
    "collapsed": false
   },
   "outputs": [
    {
     "data": {
      "text/plain": [
       "(40.269999999999996, 41.54, 37.49)"
      ]
     },
     "execution_count": 99,
     "metadata": {},
     "output_type": "execute_result"
    }
   ],
   "source": [
    "45 - 4.73, 46 - 4.46 , 45 - 7.51"
   ]
  },
  {
   "cell_type": "code",
   "execution_count": 94,
   "metadata": {
    "collapsed": false
   },
   "outputs": [
    {
     "data": {
      "text/plain": [
       "array([[   40.26108416,    41.53709287,   151.16618294,  2847.96767686],\n",
       "       [   37.42837276,    38.82779372,   153.77352541,  2845.956772  ],\n",
       "       [   39.07265149,    40.54094909,   152.12278448,  2847.8414114 ],\n",
       "       [   40.6440535 ,    41.93191633,   150.33635917,  2847.92545138],\n",
       "       [   38.2581741 ,    39.38644318,   153.43547065,  2847.70740512],\n",
       "       [   37.64415539,    38.90968519,   153.72933524,  2846.84340719],\n",
       "       [   38.36235155,    39.71153585,   152.85497582,  2847.83593719],\n",
       "       [   39.78540011,    41.10201821,   151.9019901 ,  2847.90559299],\n",
       "       [   37.38451732,    38.70895688,   153.85220845,  2844.61170734],\n",
       "       [   37.79624552,    39.14297625,   153.5381514 ,  2847.69809497]])"
      ]
     },
     "execution_count": 94,
     "metadata": {},
     "output_type": "execute_result"
    }
   ],
   "source": [
    "cast1 # casting will subtract a data row from all values in the centroid"
   ]
  },
  {
   "cell_type": "code",
   "execution_count": 106,
   "metadata": {
    "collapsed": false
   },
   "outputs": [
    {
     "data": {
      "text/plain": [
       "8"
      ]
     },
     "execution_count": 106,
     "metadata": {},
     "output_type": "execute_result"
    }
   ],
   "source": [
    "# minidx = min(enumerate(data), key=lambda x:sum(x[1]))[0]\n",
    "test1 = min(enumerate(cast1), key = lambda x: sum(x[1]))[0]  # this lambda function will find the \n",
    "# row with the min difference\n",
    "\n",
    "test1"
   ]
  },
  {
   "cell_type": "code",
   "execution_count": 100,
   "metadata": {
    "collapsed": false
   },
   "outputs": [
    {
     "ename": "ValueError",
     "evalue": "operands could not be broadcast together with shapes (188,4) (10,4) ",
     "output_type": "error",
     "traceback": [
      "\u001b[1;31m---------------------------------------------------------------------------\u001b[0m",
      "\u001b[1;31mValueError\u001b[0m                                Traceback (most recent call last)",
      "\u001b[1;32m<ipython-input-100-533480ed626f>\u001b[0m in \u001b[0;36m<module>\u001b[1;34m()\u001b[0m\n\u001b[1;32m----> 1\u001b[1;33m \u001b[0mcast1\u001b[0m \u001b[1;33m=\u001b[0m \u001b[0mar_features_clean\u001b[0m \u001b[1;33m-\u001b[0m \u001b[0mar_centroids\u001b[0m\u001b[1;33m[\u001b[0m\u001b[1;36m0\u001b[0m\u001b[1;33m]\u001b[0m\u001b[1;33m\u001b[0m\u001b[0m\n\u001b[0m",
      "\u001b[1;31mValueError\u001b[0m: operands could not be broadcast together with shapes (188,4) (10,4) "
     ]
    }
   ],
   "source": [
    "cast1 = ar_features_clean - ar_centroids[0]"
   ]
  },
  {
   "cell_type": "code",
   "execution_count": null,
   "metadata": {
    "collapsed": true
   },
   "outputs": [],
   "source": []
  },
  {
   "cell_type": "code",
   "execution_count": null,
   "metadata": {
    "collapsed": true
   },
   "outputs": [],
   "source": []
  },
  {
   "cell_type": "code",
   "execution_count": null,
   "metadata": {
    "collapsed": true
   },
   "outputs": [],
   "source": []
  },
  {
   "cell_type": "code",
   "execution_count": null,
   "metadata": {
    "collapsed": true
   },
   "outputs": [],
   "source": []
  },
  {
   "cell_type": "code",
   "execution_count": null,
   "metadata": {
    "collapsed": true
   },
   "outputs": [],
   "source": []
  },
  {
   "cell_type": "code",
   "execution_count": null,
   "metadata": {
    "collapsed": true
   },
   "outputs": [],
   "source": []
  },
  {
   "cell_type": "code",
   "execution_count": null,
   "metadata": {
    "collapsed": true
   },
   "outputs": [],
   "source": []
  },
  {
   "cell_type": "code",
   "execution_count": null,
   "metadata": {
    "collapsed": false
   },
   "outputs": [],
   "source": [
    "# print(df.i_class.unique())\n",
    "c_chart = ['red','green','blue']\n",
    "for idx, val in enumerate(df.i_class.unique()):\n",
    "    df1 = df[df['i_class'] == val]\n",
    "    y = df1['s_width']\n",
    "    x = df1['s_length']\n",
    "    plt.scatter(x,y, color = c_chart[idx])\n",
    "plt.title('Iris Graph')\n",
    "plt.xlabel('Sepal Length')\n",
    "plt.ylabel('Sepal Width')\n",
    "red_patch = mpatches.Patch(color='red', label='Setosa')\n",
    "blue_patch = mpatches.Patch(color='blue', label = 'Versicolor')\n",
    "green_patch = mpatches.Patch(color='green', label = 'Virginica')\n",
    "plt.legend(handles=[red_patch, blue_patch, green_patch])\n",
    "plt.show()"
   ]
  },
  {
   "cell_type": "code",
   "execution_count": null,
   "metadata": {
    "collapsed": true
   },
   "outputs": [],
   "source": []
  },
  {
   "cell_type": "code",
   "execution_count": null,
   "metadata": {
    "collapsed": true
   },
   "outputs": [],
   "source": []
  },
  {
   "cell_type": "code",
   "execution_count": null,
   "metadata": {
    "collapsed": true
   },
   "outputs": [],
   "source": [
    "# Determine k.\n",
    "# Calculate the distance between the new observation and all points in the training set.\n",
    "# Sort the distances to determine the k nearest neighbors based on the k-th minimum distance.\n",
    "# Determine the class of those neighbors.\n",
    "# Determine the majority."
   ]
  },
  {
   "cell_type": "code",
   "execution_count": null,
   "metadata": {
    "collapsed": true
   },
   "outputs": [],
   "source": [
    "\n",
    "   \n",
    "    "
   ]
  },
  {
   "cell_type": "code",
   "execution_count": null,
   "metadata": {
    "collapsed": false
   },
   "outputs": [],
   "source": [
    "def get_majority(dfrnd):\n",
    "\n",
    "#     print(dfrnd)\n",
    "    # set the values for length and width from random row for distance calculations\n",
    "\n",
    "    rnd_length = dfrnd['s_length']\n",
    "    rnd_width = dfrnd['s_width']\n",
    "#     print(\"sepal length in my random row is {}\".format(rnd_length))\n",
    "   \n",
    "\n",
    "    # calculate the distance between the random point and all points in the array based on pythagorean thereom\n",
    "\n",
    "    df['length_dif'] = rnd_length - df['s_length']\n",
    "    df['width_dif'] = rnd_width - df['s_width']\n",
    "    df['dist'] = np.sqrt(df.length_dif **2 + df.width_dif **2)\n",
    "\n",
    "    # sort the data by distance\n",
    "    dfsort = df.sort(['dist'], ascending = [True])\n",
    "\n",
    "    # create a new df with only k nearest neighbors\n",
    "    dfk = dfsort.head(k)\n",
    "#     print(\"nearest neighbors sorted by distance \")\n",
    "#     print(dfk)\n",
    "    \n",
    "    # Vote on majority class\n",
    "    setosa_cnt = 0\n",
    "    versicolor_cnt = 0\n",
    "    virginica_cnt = 0\n",
    "\n",
    "    # count number of each type\n",
    "\n",
    "    setosa_cnt = dfk[df['i_class'] == 'Iris-setosa'].s_length.count()\n",
    "    versicolor_cnt = dfk[df['i_class'] == 'Iris-versicolor'].s_length.count()\n",
    "    virginica_cnt = dfk[df['i_class'] == 'Iris-virginica'].s_length.count()\n",
    "#     print(setosa_cnt, versicolor_cnt, virginica_cnt)\n",
    "\n",
    "    count_dict = {'Iris-setosa': setosa_cnt, 'Iris-versicolor': versicolor_cnt, 'Iris-virginica': virginica_cnt}\n",
    "#     print(count_dict)\n",
    "\n",
    "    majority = max(count_dict, key=lambda key: count_dict[key])\n",
    "#     print(\"Majority vote is {} and actual is {}\".format(majority, dfrnd['i_class']))\n",
    "\n",
    "\n",
    "    return(majority)\n"
   ]
  },
  {
   "cell_type": "code",
   "execution_count": null,
   "metadata": {
    "collapsed": false
   },
   "outputs": [],
   "source": [
    "k = 5\n",
    "\n",
    "len(df)"
   ]
  },
  {
   "cell_type": "code",
   "execution_count": null,
   "metadata": {
    "collapsed": false
   },
   "outputs": [],
   "source": [
    "# df['majority'] = [get_majority(data,k) for index, data in df['i_class'].iteritems()]\n",
    "# raw_data['Loan.Length'] = [get_int_from_text(data) for index, data in raw_data['Loan.Length'].iteritems()]\n",
    "df['majority'] = False\n",
    "\n",
    "for x in range(len(df)):\n",
    "# for x in range(5):\n",
    "    majority = get_majority(df.iloc[x])\n",
    "#     print(majority)\n",
    "    df.loc[x,'majority'] = majority # loc works here but iloc does not"
   ]
  },
  {
   "cell_type": "code",
   "execution_count": null,
   "metadata": {
    "collapsed": false
   },
   "outputs": [],
   "source": [
    "# df[df['i_class' != 'majority']].count()\n",
    "print(\"Number of mislabeled points out of a total %d points : %d\"\n",
    "% (df.shape[0],(df.i_class != df.majority).sum()))"
   ]
  },
  {
   "cell_type": "code",
   "execution_count": null,
   "metadata": {
    "collapsed": false
   },
   "outputs": [],
   "source": [
    "df[df['i_class'] != df['majority']]"
   ]
  },
  {
   "cell_type": "code",
   "execution_count": null,
   "metadata": {
    "collapsed": false
   },
   "outputs": [],
   "source": [
    "df1 = df[df['i_class'] != df['majority']]\n",
    "y = df1['s_width']\n",
    "x = df1['s_length']\n",
    "plt.scatter(x,y, color = 'red')\n",
    "\n",
    "df2 = df[df['i_class'] == df['majority']]\n",
    "y2 = df2['s_width']\n",
    "x2 = df2['s_length']\n",
    "plt.scatter(x2,y2, color = 'green')\n",
    "\n",
    "plt.title('Iris Graph')\n",
    "plt.xlabel('Sepal Length')\n",
    "plt.ylabel('Sepal Width')\n",
    "red_patch = mpatches.Patch(color='red', label='Missed')\n",
    "green_patch = mpatches.Patch(color='green', label = 'Hit')\n",
    "plt.legend(handles=[red_patch, green_patch])\n",
    "plt.show()"
   ]
  },
  {
   "cell_type": "code",
   "execution_count": null,
   "metadata": {
    "collapsed": false
   },
   "outputs": [],
   "source": [
    "a = pd.scatter_matrix(df, alpha=0.05, figsize=(10,10), diagonal='hist')\n"
   ]
  },
  {
   "cell_type": "code",
   "execution_count": null,
   "metadata": {
    "collapsed": true
   },
   "outputs": [],
   "source": []
  }
 ],
 "metadata": {
  "kernelspec": {
   "display_name": "Python 2",
   "language": "python",
   "name": "python2"
  },
  "language_info": {
   "codemirror_mode": {
    "name": "ipython",
    "version": 2
   },
   "file_extension": ".py",
   "mimetype": "text/x-python",
   "name": "python",
   "nbconvert_exporter": "python",
   "pygments_lexer": "ipython2",
   "version": "2.7.12"
  }
 },
 "nbformat": 4,
 "nbformat_minor": 0
}
