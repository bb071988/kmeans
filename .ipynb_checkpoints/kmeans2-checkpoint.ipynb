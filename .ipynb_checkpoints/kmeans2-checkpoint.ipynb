{
 "cells": [
  {
   "cell_type": "code",
   "execution_count": 14,
   "metadata": {
    "collapsed": true
   },
   "outputs": [],
   "source": [
    "%matplotlib inline"
   ]
  },
  {
   "cell_type": "code",
   "execution_count": 15,
   "metadata": {
    "collapsed": true
   },
   "outputs": [],
   "source": [
    "import pandas as pd\n",
    "import numpy as np\n",
    "import matplotlib.pyplot as plt\n",
    "import matplotlib.patches as mpatches\n"
   ]
  },
  {
   "cell_type": "code",
   "execution_count": 16,
   "metadata": {
    "collapsed": false
   },
   "outputs": [],
   "source": [
    "# df = pd.DataFrame.from_csv('iris.data.csv',names = ['a','b','c','d','e'], index_col = None)\n",
    "df = pd.read_csv('iris.data.csv',names = ['s_length','s_width','p_length','p_width','i_class'])"
   ]
  },
  {
   "cell_type": "code",
   "execution_count": 17,
   "metadata": {
    "collapsed": false
   },
   "outputs": [
    {
     "data": {
      "text/html": [
       "<div>\n",
       "<table border=\"1\" class=\"dataframe\">\n",
       "  <thead>\n",
       "    <tr style=\"text-align: right;\">\n",
       "      <th></th>\n",
       "      <th>s_length</th>\n",
       "      <th>s_width</th>\n",
       "      <th>p_length</th>\n",
       "      <th>p_width</th>\n",
       "      <th>i_class</th>\n",
       "    </tr>\n",
       "  </thead>\n",
       "  <tbody>\n",
       "    <tr>\n",
       "      <th>0</th>\n",
       "      <td>5.1</td>\n",
       "      <td>3.5</td>\n",
       "      <td>1.4</td>\n",
       "      <td>0.2</td>\n",
       "      <td>Iris-setosa</td>\n",
       "    </tr>\n",
       "    <tr>\n",
       "      <th>1</th>\n",
       "      <td>4.9</td>\n",
       "      <td>3.0</td>\n",
       "      <td>1.4</td>\n",
       "      <td>0.2</td>\n",
       "      <td>Iris-setosa</td>\n",
       "    </tr>\n",
       "    <tr>\n",
       "      <th>2</th>\n",
       "      <td>4.7</td>\n",
       "      <td>3.2</td>\n",
       "      <td>1.3</td>\n",
       "      <td>0.2</td>\n",
       "      <td>Iris-setosa</td>\n",
       "    </tr>\n",
       "    <tr>\n",
       "      <th>3</th>\n",
       "      <td>4.6</td>\n",
       "      <td>3.1</td>\n",
       "      <td>1.5</td>\n",
       "      <td>0.2</td>\n",
       "      <td>Iris-setosa</td>\n",
       "    </tr>\n",
       "    <tr>\n",
       "      <th>4</th>\n",
       "      <td>5.0</td>\n",
       "      <td>3.6</td>\n",
       "      <td>1.4</td>\n",
       "      <td>0.2</td>\n",
       "      <td>Iris-setosa</td>\n",
       "    </tr>\n",
       "  </tbody>\n",
       "</table>\n",
       "</div>"
      ],
      "text/plain": [
       "   s_length  s_width  p_length  p_width      i_class\n",
       "0       5.1      3.5       1.4      0.2  Iris-setosa\n",
       "1       4.9      3.0       1.4      0.2  Iris-setosa\n",
       "2       4.7      3.2       1.3      0.2  Iris-setosa\n",
       "3       4.6      3.1       1.5      0.2  Iris-setosa\n",
       "4       5.0      3.6       1.4      0.2  Iris-setosa"
      ]
     },
     "execution_count": 17,
     "metadata": {},
     "output_type": "execute_result"
    }
   ],
   "source": [
    "df.head()"
   ]
  },
  {
   "cell_type": "code",
   "execution_count": 18,
   "metadata": {
    "collapsed": false
   },
   "outputs": [
    {
     "data": {
      "text/plain": [
       "<matplotlib.collections.PathCollection at 0xa28f940>"
      ]
     },
     "execution_count": 18,
     "metadata": {},
     "output_type": "execute_result"
    },
    {
     "data": {
      "image/png": "[encoded data removed]",
      "text/plain": [
       "<matplotlib.figure.Figure at 0x9e646d8>"
      ]
     },
     "metadata": {},
     "output_type": "display_data"
    }
   ],
   "source": [
    "y = df['s_width']\n",
    "x = df['s_length']\n",
    "plt.scatter(x,y)"
   ]
  },
  {
   "cell_type": "code",
   "execution_count": 19,
   "metadata": {
    "collapsed": false
   },
   "outputs": [
    {
     "data": {
      "image/png": "[encoded data removed]",
      "text/plain": [
       "<matplotlib.figure.Figure at 0x9f51ef0>"
      ]
     },
     "metadata": {},
     "output_type": "display_data"
    }
   ],
   "source": [
    "# print(df.i_class.unique())\n",
    "c_chart = ['red','green','blue']\n",
    "for idx, val in enumerate(df.i_class.unique()):\n",
    "    df1 = df[df['i_class'] == val]\n",
    "    y = df1['s_width']\n",
    "    x = df1['s_length']\n",
    "    plt.scatter(x,y, color = c_chart[idx])\n",
    "plt.title('Iris Graph')\n",
    "plt.xlabel('Sepal Length')\n",
    "plt.ylabel('Sepal Width')\n",
    "red_patch = mpatches.Patch(color='red', label='Setosa')\n",
    "blue_patch = mpatches.Patch(color='blue', label = 'Versicolor')\n",
    "green_patch = mpatches.Patch(color='green', label = 'Virginica')\n",
    "plt.legend(handles=[red_patch, blue_patch, green_patch])\n",
    "plt.show()"
   ]
  },
  {
   "cell_type": "code",
   "execution_count": 20,
   "metadata": {
    "collapsed": true
   },
   "outputs": [],
   "source": [
    "# Determine k.\n",
    "# Calculate the distance between the new observation and all points in the training set.\n",
    "# Sort the distances to determine the k nearest neighbors based on the k-th minimum distance.\n",
    "# Determine the class of those neighbors.\n",
    "# Determine the majority."
   ]
  },
  {
   "cell_type": "code",
   "execution_count": 40,
   "metadata": {
    "collapsed": false
   },
   "outputs": [
    {
     "name": "stdout",
     "output_type": "stream",
     "text": [
      "Picked row [146] at random\n",
      "Values in my row are as follows\n",
      "     s_length  s_width  p_length  p_width         i_class\n",
      "146       6.3      2.5         5      1.9  Iris-virginica\n",
      "sepal length in my random row is 146    6.3\n",
      "Name: s_length, dtype: float64\n",
      "nearest neighbors sorted by distance \n",
      "     s_length  s_width  p_length  p_width          i_class  length_dif  \\\n",
      "146       6.3      2.5       5.0      1.9   Iris-virginica         0.0   \n",
      "72        6.3      2.5       4.9      1.5  Iris-versicolor         0.0   \n",
      "123       6.3      2.7       4.9      1.8   Iris-virginica         0.0   \n",
      "87        6.3      2.3       4.4      1.3  Iris-versicolor         0.0   \n",
      "134       6.1      2.6       5.6      1.4   Iris-virginica         0.2   \n",
      "\n",
      "     width_dif      dist  \n",
      "146        0.0  0.000000  \n",
      "72         0.0  0.000000  \n",
      "123       -0.2  0.200000  \n",
      "87         0.2  0.200000  \n",
      "134       -0.1  0.223607  \n",
      "(0, 2, 3)\n",
      "{'setosa': 0, 'versicolor': 2, 'virginica': 3}\n",
      "Majority vote is virginica and actual is 146    Iris-virginica\n",
      "Name: i_class, dtype: object\n"
     ]
    },
    {
     "name": "stderr",
     "output_type": "stream",
     "text": [
      "C:\\Users\\bob071988\\Anaconda2\\lib\\site-packages\\ipykernel\\__main__.py:7: DeprecationWarning: This function is deprecated. Please call randint(1, 150 + 1) instead\n",
      "C:\\Users\\bob071988\\Anaconda2\\lib\\site-packages\\ipykernel\\__main__.py:29: FutureWarning: sort(columns=....) is deprecated, use sort_values(by=.....)\n"
     ]
    }
   ],
   "source": [
    "# re read the file each time\n",
    "df = pd.read_csv('iris.data.csv',names = ['s_length','s_width','p_length','p_width','i_class'])\n",
    "# set k - pick an odd number\n",
    "k = 5\n",
    "\n",
    "# Pick a random row\n",
    "myrnd = np.random.random_integers(1, len(df), 1)\n",
    "print(\"Picked row {} at random\".format(myrnd))\n",
    "\n",
    "# make a copy of the randomly selcted row\n",
    "dfrnd = df.iloc[[myrnd[0]]]\n",
    "print(\"Values in my row are as follows\")\n",
    "print(dfrnd)\n",
    "\n",
    "# set the values for length and width from random row for distance calculations\n",
    "\n",
    "rnd_length = dfrnd['s_length']\n",
    "rnd_width = dfrnd['s_width']\n",
    "print(\"sepal length in my random row is {}\".format(rnd_length))\n",
    "# type(rnd_length)\n",
    "\n",
    "# calculate the distance between the random point and all points in the array based on pythagorean thereom\n",
    "\n",
    "df['length_dif'] = rnd_length.values.item() - df['s_length']\n",
    "df['width_dif'] = rnd_width.values.item() - df['s_width']\n",
    "df['dist'] = np.sqrt(df.length_dif **2 + df.width_dif **2)\n",
    "\n",
    "# sort the data by distance\n",
    "dfsort = df.sort(['dist'], ascending = [True])\n",
    "\n",
    "\n",
    "# create a new df with only k nearest neighbors\n",
    "dfk = dfsort.head(k)\n",
    "print(\"nearest neighbors sorted by distance \")\n",
    "print(dfk)\n",
    "# dfk['counter'] = 1\n",
    "\n",
    "# Vote on majority class\n",
    "setosa_cnt = 0\n",
    "versicolor_cnt = 0\n",
    "virginica_cnt = 0\n",
    "\n",
    "# count number of each type\n",
    "\n",
    "setosa_cnt = dfk[df['i_class'] == 'Iris-setosa'].s_length.count()\n",
    "versicolor_cnt = dfk[df['i_class'] == 'Iris-versicolor'].s_length.count()\n",
    "virginica_cnt = dfk[df['i_class'] == 'Iris-virginica'].s_length.count()\n",
    "print(setosa_cnt, versicolor_cnt, virginica_cnt)\n",
    "\n",
    "count_dict = {'setosa': setosa_cnt, 'versicolor': versicolor_cnt, 'virginica': virginica_cnt}\n",
    "print(count_dict)\n",
    "\n",
    "majority = max(count_dict, key=lambda key: count_dict[key])\n",
    "print(\"Majority vote is {} and actual is {}\".format(majority, dfrnd['i_class']))\n",
    "\n",
    "\n",
    "\n"
   ]
  },
  {
   "cell_type": "code",
   "execution_count": null,
   "metadata": {
    "collapsed": true
   },
   "outputs": [],
   "source": []
  }
 ],
 "metadata": {
  "kernelspec": {
   "display_name": "Python 2",
   "language": "python",
   "name": "python2"
  },
  "language_info": {
   "codemirror_mode": {
    "name": "ipython",
    "version": 2
   },
   "file_extension": ".py",
   "mimetype": "text/x-python",
   "name": "python",
   "nbconvert_exporter": "python",
   "pygments_lexer": "ipython2",
   "version": "2.7.12"
  }
 },
 "nbformat": 4,
 "nbformat_minor": 0
}
