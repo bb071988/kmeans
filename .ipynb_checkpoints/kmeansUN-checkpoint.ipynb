{
 "cells": [
  {
   "cell_type": "code",
   "execution_count": 2,
   "metadata": {
    "collapsed": true
   },
   "outputs": [],
   "source": [
    "%matplotlib inline"
   ]
  },
  {
   "cell_type": "code",
   "execution_count": 3,
   "metadata": {
    "collapsed": true
   },
   "outputs": [],
   "source": [
    "import pandas as pd\n",
    "import numpy as np\n",
    "import matplotlib.pyplot as plt\n",
    "import matplotlib.patches as mpatches\n"
   ]
  },
  {
   "cell_type": "code",
   "execution_count": 4,
   "metadata": {
    "collapsed": false
   },
   "outputs": [],
   "source": [
    "df = pd.read_csv('UN.csv')"
   ]
  },
  {
   "cell_type": "code",
   "execution_count": 5,
   "metadata": {
    "collapsed": false
   },
   "outputs": [
    {
     "data": {
      "text/html": [
       "<div>\n",
       "<table border=\"1\" class=\"dataframe\">\n",
       "  <thead>\n",
       "    <tr style=\"text-align: right;\">\n",
       "      <th></th>\n",
       "      <th>country</th>\n",
       "      <th>region</th>\n",
       "      <th>tfr</th>\n",
       "      <th>contraception</th>\n",
       "      <th>educationMale</th>\n",
       "      <th>educationFemale</th>\n",
       "      <th>lifeMale</th>\n",
       "      <th>lifeFemale</th>\n",
       "      <th>infantMortality</th>\n",
       "      <th>GDPperCapita</th>\n",
       "      <th>economicActivityMale</th>\n",
       "      <th>economicActivityFemale</th>\n",
       "      <th>illiteracyMale</th>\n",
       "      <th>illiteracyFemale</th>\n",
       "    </tr>\n",
       "  </thead>\n",
       "  <tbody>\n",
       "    <tr>\n",
       "      <th>0</th>\n",
       "      <td>Afghanistan</td>\n",
       "      <td>Asia</td>\n",
       "      <td>6.90</td>\n",
       "      <td>NaN</td>\n",
       "      <td>NaN</td>\n",
       "      <td>NaN</td>\n",
       "      <td>45.0</td>\n",
       "      <td>46.0</td>\n",
       "      <td>154</td>\n",
       "      <td>2848</td>\n",
       "      <td>87.5</td>\n",
       "      <td>7.2</td>\n",
       "      <td>52.800</td>\n",
       "      <td>85.00</td>\n",
       "    </tr>\n",
       "    <tr>\n",
       "      <th>1</th>\n",
       "      <td>Albania</td>\n",
       "      <td>Europe</td>\n",
       "      <td>2.60</td>\n",
       "      <td>NaN</td>\n",
       "      <td>NaN</td>\n",
       "      <td>NaN</td>\n",
       "      <td>68.0</td>\n",
       "      <td>74.0</td>\n",
       "      <td>32</td>\n",
       "      <td>863</td>\n",
       "      <td>NaN</td>\n",
       "      <td>NaN</td>\n",
       "      <td>NaN</td>\n",
       "      <td>NaN</td>\n",
       "    </tr>\n",
       "    <tr>\n",
       "      <th>2</th>\n",
       "      <td>Algeria</td>\n",
       "      <td>Africa</td>\n",
       "      <td>3.81</td>\n",
       "      <td>52</td>\n",
       "      <td>11.1</td>\n",
       "      <td>9.9</td>\n",
       "      <td>67.5</td>\n",
       "      <td>70.3</td>\n",
       "      <td>44</td>\n",
       "      <td>1531</td>\n",
       "      <td>76.4</td>\n",
       "      <td>7.8</td>\n",
       "      <td>26.100</td>\n",
       "      <td>51.00</td>\n",
       "    </tr>\n",
       "    <tr>\n",
       "      <th>3</th>\n",
       "      <td>American.Samoa</td>\n",
       "      <td>Asia</td>\n",
       "      <td>NaN</td>\n",
       "      <td>NaN</td>\n",
       "      <td>NaN</td>\n",
       "      <td>NaN</td>\n",
       "      <td>68.0</td>\n",
       "      <td>73.0</td>\n",
       "      <td>11</td>\n",
       "      <td>NaN</td>\n",
       "      <td>58.8</td>\n",
       "      <td>42.4</td>\n",
       "      <td>0.264</td>\n",
       "      <td>0.36</td>\n",
       "    </tr>\n",
       "    <tr>\n",
       "      <th>4</th>\n",
       "      <td>Andorra</td>\n",
       "      <td>Europe</td>\n",
       "      <td>NaN</td>\n",
       "      <td>NaN</td>\n",
       "      <td>NaN</td>\n",
       "      <td>NaN</td>\n",
       "      <td>NaN</td>\n",
       "      <td>NaN</td>\n",
       "      <td>NaN</td>\n",
       "      <td>NaN</td>\n",
       "      <td>NaN</td>\n",
       "      <td>NaN</td>\n",
       "      <td>NaN</td>\n",
       "      <td>NaN</td>\n",
       "    </tr>\n",
       "  </tbody>\n",
       "</table>\n",
       "</div>"
      ],
      "text/plain": [
       "          country  region   tfr  contraception  educationMale  \\\n",
       "0     Afghanistan    Asia  6.90            NaN            NaN   \n",
       "1         Albania  Europe  2.60            NaN            NaN   \n",
       "2         Algeria  Africa  3.81             52           11.1   \n",
       "3  American.Samoa    Asia   NaN            NaN            NaN   \n",
       "4         Andorra  Europe   NaN            NaN            NaN   \n",
       "\n",
       "   educationFemale  lifeMale  lifeFemale  infantMortality  GDPperCapita  \\\n",
       "0              NaN      45.0        46.0              154          2848   \n",
       "1              NaN      68.0        74.0               32           863   \n",
       "2              9.9      67.5        70.3               44          1531   \n",
       "3              NaN      68.0        73.0               11           NaN   \n",
       "4              NaN       NaN         NaN              NaN           NaN   \n",
       "\n",
       "   economicActivityMale  economicActivityFemale  illiteracyMale  \\\n",
       "0                  87.5                     7.2          52.800   \n",
       "1                   NaN                     NaN             NaN   \n",
       "2                  76.4                     7.8          26.100   \n",
       "3                  58.8                    42.4           0.264   \n",
       "4                   NaN                     NaN             NaN   \n",
       "\n",
       "   illiteracyFemale  \n",
       "0             85.00  \n",
       "1               NaN  \n",
       "2             51.00  \n",
       "3              0.36  \n",
       "4               NaN  "
      ]
     },
     "execution_count": 5,
     "metadata": {},
     "output_type": "execute_result"
    }
   ],
   "source": [
    "df.head()"
   ]
  },
  {
   "cell_type": "code",
   "execution_count": 6,
   "metadata": {
    "collapsed": false
   },
   "outputs": [
    {
     "name": "stdout",
     "output_type": "stream",
     "text": [
      "total rows 207\n"
     ]
    }
   ],
   "source": [
    "rows = df.shape[0]\n",
    "print('total rows {}'.format(rows))"
   ]
  },
  {
   "cell_type": "code",
   "execution_count": 7,
   "metadata": {
    "collapsed": false
   },
   "outputs": [
    {
     "data": {
      "text/plain": [
       "country                   207\n",
       "region                    207\n",
       "tfr                       197\n",
       "contraception             144\n",
       "educationMale              76\n",
       "educationFemale            76\n",
       "lifeMale                  196\n",
       "lifeFemale                196\n",
       "infantMortality           201\n",
       "GDPperCapita              197\n",
       "economicActivityMale      165\n",
       "economicActivityFemale    165\n",
       "illiteracyMale            160\n",
       "illiteracyFemale          160\n",
       "dtype: int64"
      ]
     },
     "execution_count": 7,
     "metadata": {},
     "output_type": "execute_result"
    }
   ],
   "source": [
    "rows - df.isnull().sum()"
   ]
  },
  {
   "cell_type": "code",
   "execution_count": 8,
   "metadata": {
    "collapsed": true
   },
   "outputs": [],
   "source": [
    "# best to cluster on infantmortality, lifeMale, lifeFemale"
   ]
  },
  {
   "cell_type": "code",
   "execution_count": 9,
   "metadata": {
    "collapsed": false
   },
   "outputs": [
    {
     "name": "stdout",
     "output_type": "stream",
     "text": [
      "country : object\n",
      "region : object\n",
      "tfr : float64\n",
      "contraception : float64\n",
      "educationMale : float64\n",
      "educationFemale : float64\n",
      "lifeMale : float64\n",
      "lifeFemale : float64\n",
      "infantMortality : float64\n",
      "GDPperCapita : float64\n",
      "economicActivityMale : float64\n",
      "economicActivityFemale : float64\n",
      "illiteracyMale : float64\n",
      "illiteracyFemale : float64\n"
     ]
    }
   ],
   "source": [
    "for col in df.columns.values:\n",
    "    print('{} : {}'.format(col, df[col].dtype))"
   ]
  },
  {
   "cell_type": "code",
   "execution_count": 10,
   "metadata": {
    "collapsed": false
   },
   "outputs": [
    {
     "data": {
      "text/plain": [
       "207"
      ]
     },
     "execution_count": 10,
     "metadata": {},
     "output_type": "execute_result"
    }
   ],
   "source": [
    "len(df['country'].unique()) # unique returns list.  len gives length. Prevents counting duplicates."
   ]
  },
  {
   "cell_type": "code",
   "execution_count": 11,
   "metadata": {
    "collapsed": true
   },
   "outputs": [],
   "source": [
    "#Apply scipy.cluster.vq.kmeans 1 to 10 and determine the cluster centroids.\n"
   ]
  },
  {
   "cell_type": "code",
   "execution_count": 114,
   "metadata": {
    "collapsed": true
   },
   "outputs": [],
   "source": [
    "from scipy.cluster.vq import kmeans, whiten, vq"
   ]
  },
  {
   "cell_type": "code",
   "execution_count": 13,
   "metadata": {
    "collapsed": false
   },
   "outputs": [],
   "source": [
    "features = ['lifeMale','lifeFemale','infantMortality','GDPperCapita']"
   ]
  },
  {
   "cell_type": "code",
   "execution_count": 45,
   "metadata": {
    "collapsed": false
   },
   "outputs": [],
   "source": [
    "df_features = df[features]"
   ]
  },
  {
   "cell_type": "code",
   "execution_count": 46,
   "metadata": {
    "collapsed": false
   },
   "outputs": [
    {
     "data": {
      "text/html": [
       "<div>\n",
       "<table border=\"1\" class=\"dataframe\">\n",
       "  <thead>\n",
       "    <tr style=\"text-align: right;\">\n",
       "      <th></th>\n",
       "      <th>lifeMale</th>\n",
       "      <th>lifeFemale</th>\n",
       "      <th>infantMortality</th>\n",
       "      <th>GDPperCapita</th>\n",
       "    </tr>\n",
       "  </thead>\n",
       "  <tbody>\n",
       "    <tr>\n",
       "      <th>0</th>\n",
       "      <td>45.0</td>\n",
       "      <td>46.0</td>\n",
       "      <td>154</td>\n",
       "      <td>2848</td>\n",
       "    </tr>\n",
       "    <tr>\n",
       "      <th>1</th>\n",
       "      <td>68.0</td>\n",
       "      <td>74.0</td>\n",
       "      <td>32</td>\n",
       "      <td>863</td>\n",
       "    </tr>\n",
       "    <tr>\n",
       "      <th>2</th>\n",
       "      <td>67.5</td>\n",
       "      <td>70.3</td>\n",
       "      <td>44</td>\n",
       "      <td>1531</td>\n",
       "    </tr>\n",
       "    <tr>\n",
       "      <th>3</th>\n",
       "      <td>68.0</td>\n",
       "      <td>73.0</td>\n",
       "      <td>11</td>\n",
       "      <td>NaN</td>\n",
       "    </tr>\n",
       "    <tr>\n",
       "      <th>4</th>\n",
       "      <td>NaN</td>\n",
       "      <td>NaN</td>\n",
       "      <td>NaN</td>\n",
       "      <td>NaN</td>\n",
       "    </tr>\n",
       "  </tbody>\n",
       "</table>\n",
       "</div>"
      ],
      "text/plain": [
       "   lifeMale  lifeFemale  infantMortality  GDPperCapita\n",
       "0      45.0        46.0              154          2848\n",
       "1      68.0        74.0               32           863\n",
       "2      67.5        70.3               44          1531\n",
       "3      68.0        73.0               11           NaN\n",
       "4       NaN         NaN              NaN           NaN"
      ]
     },
     "execution_count": 46,
     "metadata": {},
     "output_type": "execute_result"
    }
   ],
   "source": [
    "df_features.head()"
   ]
  },
  {
   "cell_type": "code",
   "execution_count": 47,
   "metadata": {
    "collapsed": false
   },
   "outputs": [],
   "source": [
    "df_features_clean = df_features.dropna() "
   ]
  },
  {
   "cell_type": "code",
   "execution_count": 48,
   "metadata": {
    "collapsed": false
   },
   "outputs": [
    {
     "data": {
      "text/plain": [
       "(188, 4)"
      ]
     },
     "execution_count": 48,
     "metadata": {},
     "output_type": "execute_result"
    }
   ],
   "source": [
    "df_features_clean.shape"
   ]
  },
  {
   "cell_type": "code",
   "execution_count": 52,
   "metadata": {
    "collapsed": false
   },
   "outputs": [],
   "source": [
    "ar_whiten = whiten(df_features_clean)\n",
    "# whiten function normalizes the df"
   ]
  },
  {
   "cell_type": "code",
   "execution_count": 53,
   "metadata": {
    "collapsed": false
   },
   "outputs": [],
   "source": [
    "ar_centroids = kmeans(ar_whiten , 10) # this generates the codebook with whitened centroid values"
   ]
  },
  {
   "cell_type": "code",
   "execution_count": 56,
   "metadata": {
    "collapsed": false
   },
   "outputs": [
    {
     "data": {
      "text/plain": [
       "(array([[ 4.73891584,  4.46290713,  2.83381706,  0.03232314],\n",
       "        [ 7.57162724,  7.17220628,  0.22647459,  2.043228  ],\n",
       "        [ 5.92734851,  5.45905091,  1.87721552,  0.1585886 ],\n",
       "        [ 4.3559465 ,  4.06808367,  3.66364083,  0.07454862],\n",
       "        [ 6.7418259 ,  6.61355682,  0.56452935,  0.29259488],\n",
       "        [ 7.35584461,  7.09031481,  0.27066476,  1.15659281],\n",
       "        [ 6.63764845,  6.28846415,  1.14502418,  0.16406281],\n",
       "        [ 5.21459989,  4.89798179,  2.0980099 ,  0.09440701],\n",
       "        [ 7.61548268,  7.29104312,  0.14779155,  3.38829266],\n",
       "        [ 7.20375448,  6.85702375,  0.4618486 ,  0.30190503]]),\n",
       " 0.38931660538177959)"
      ]
     },
     "execution_count": 56,
     "metadata": {},
     "output_type": "execute_result"
    }
   ],
   "source": [
    "ar_centroids"
   ]
  },
  {
   "cell_type": "code",
   "execution_count": 116,
   "metadata": {
    "collapsed": false
   },
   "outputs": [
    {
     "data": {
      "text/plain": [
       "(array([8, 8, 8, 8, 8, 8, 8, 8, 8, 8, 8, 8, 8, 8, 8, 8, 8, 8, 8, 8, 8, 8, 8,\n",
       "        8, 8, 8, 8, 8, 8, 8, 8, 8, 8, 8, 8, 8, 8, 8, 8, 8, 8, 8, 8, 8, 8, 8,\n",
       "        8, 8, 8, 8, 8, 8, 8, 8, 8, 8, 8, 8, 8, 8, 8, 8, 8, 8, 8, 8, 8, 8, 8,\n",
       "        8, 8, 8, 8, 8, 8, 8, 8, 8, 8, 8, 8, 8, 8, 8, 8, 8, 8, 8, 8, 8, 8, 8,\n",
       "        8, 8, 8, 8, 8, 8, 8, 8, 8, 8, 8, 8, 8, 8, 8, 8, 8, 8, 8, 8, 8, 8, 8,\n",
       "        8, 8, 8, 8, 8, 8, 8, 8, 8, 8, 8, 8, 8, 8, 8, 8, 8, 8, 8, 8, 8, 8, 8,\n",
       "        8, 8, 8, 8, 8, 8, 8, 8, 8, 8, 8, 8, 8, 8, 8, 8, 8, 8, 8, 8, 8, 8, 8,\n",
       "        8, 8, 8, 8, 8, 8, 8, 8, 8, 8, 8, 8, 8, 8, 8, 8, 8, 8, 8, 8, 8, 8, 8,\n",
       "        8, 8, 8, 8]),\n",
       " array([  2849.27749668,    864.89492162,   1530.71121661,    376.86293061,\n",
       "          8052.17996448,    362.69353623,  20042.86345746,  29002.77897724,\n",
       "           331.57336218,  12541.97129061,   9070.10643408,    296.16787702,\n",
       "          7170.27639574,    994.64269137,  26578.79634376,   2567.55075168,\n",
       "           402.20714253,    203.54139408,    911.21792846,    283.62449939,\n",
       "          3637.54597854,   4507.60434768,  16679.89408181,   1517.39680496,\n",
       "           196.16468726,    238.26001775,    175.33532255,    630.02182621,\n",
       "         18939.88298768,    994.96542327,    392.02871356,    223.97663538,\n",
       "          4733.6038185 ,    586.55203948,   2213.56633178,    379.37249057,\n",
       "          1010.50673845,   5429.39569323,   2694.42808739,   4011.67690494,\n",
       "          1982.01264576,  11456.04376876,   4447.58607251,    157.92199864,\n",
       "         33187.7527892 ,    897.94237469,   1507.67668044,   1564.78369086,\n",
       "           974.63154084,   1659.39490099,    403.69570271,    147.92156986,\n",
       "          2431.23548284,    153.69119461,   2591.33574155,  24449.80802508,\n",
       "         26440.80554845,  19762.82901544,   5004.7930955 ,    344.77170534,\n",
       "           352.6795471 ,  29628.77428474,    406.6519127 ,   8681.1902284 ,\n",
       "          9142.12218519,   1391.76028255,    459.0966911 ,    190.56968379,\n",
       "           729.41661405,    396.86988511,    700.08870644,  22894.83589126,\n",
       "          4322.51997362,  26213.80923674,    376.78174302,   1020.01122491,\n",
       "          1543.57807209,  11305.27693641,  17415.88849284,  16734.90739691,\n",
       "         19117.87568332,    740.20522637,   1778.19176099,  41714.73794467,\n",
       "          1228.14353512,    995.86007509,    339.44240971,    658.13637655,\n",
       "           283.63249394,   9733.05057386,  15753.91767087,    340.77141102,\n",
       "           371.58635341,   1762.81235164,   3112.00008585,    493.26773007,\n",
       "          1132.70479486,   5495.51365652,   1594.17547431,  35105.74794637,\n",
       "          1659.32452779,    236.43781701,    203.82977626,   4310.59629285,\n",
       "          1079.73973607,    271.4572533 ,   8790.16376838,   1647.56194767,\n",
       "         12713.99492957,    413.25381165,   3505.82243144,   2698.36037516,\n",
       "          2102.37282336,    389.89646633,    396.7732682 ,   1265.41165343,\n",
       "           143.5666192 ,   2398.03604627,   2057.61271944,    226.98899069,\n",
       "         25631.80578579,   9036.1434741 ,  19446.84390117,  16862.90200217,\n",
       "           470.61621647,    240.42567379,    592.07728894,  33730.75862856,\n",
       "          6229.31251484,    512.31287664,   6414.21341577,   2932.20318089,\n",
       "          1083.68165764,   1859.10998342,   2495.50681264,   1093.57444161,\n",
       "          3055.97588791,  10425.05819653,  12210.00679597,  14009.92629693,\n",
       "         11851.00448358,   1569.26540518,   2449.04468424,    270.25135732,\n",
       "          4816.46038882,   3180.95159661,   1107.59071574,   6580.27827665,\n",
       "           575.3196882 ,   7269.1572804 ,    337.94008328,  25577.80312085,\n",
       "          3263.89271052,   9649.06829687,    689.02815614,    171.2759673 ,\n",
       "          3228.00641775,  14107.96709473,    718.80441963,    103.00400175,\n",
       "           968.16041763,   1389.12204528,  26249.8046799 ,  42412.73143951,\n",
       "          3570.82376263,    156.03701729,    169.21708787,   2894.09116664,\n",
       "           335.46179825,   1785.73912141,   4080.71724606,   2028.84907052,\n",
       "          2812.30814203,    332.66536969,    325.58515721,    696.30997607,\n",
       "         17686.87755912,  18909.86991648,  26033.79753759,   5599.40298598,\n",
       "           441.99412666,   1288.97277838,   3493.90082376,    282.14147124,\n",
       "           736.43874077,   1486.59047365,    395.53394633,    787.69088641]))"
      ]
     },
     "execution_count": 116,
     "metadata": {},
     "output_type": "execute_result"
    }
   ],
   "source": [
    "vq(ar_features_clean,ar_centroids[0])"
   ]
  },
  {
   "cell_type": "code",
   "execution_count": 58,
   "metadata": {
    "collapsed": false
   },
   "outputs": [
    {
     "data": {
      "text/html": [
       "<div>\n",
       "<table border=\"1\" class=\"dataframe\">\n",
       "  <thead>\n",
       "    <tr style=\"text-align: right;\">\n",
       "      <th></th>\n",
       "      <th>lifeMale</th>\n",
       "      <th>lifeFemale</th>\n",
       "      <th>infantMortality</th>\n",
       "      <th>GDPperCapita</th>\n",
       "    </tr>\n",
       "  </thead>\n",
       "  <tbody>\n",
       "    <tr>\n",
       "      <th>0</th>\n",
       "      <td>45.0</td>\n",
       "      <td>46.0</td>\n",
       "      <td>154</td>\n",
       "      <td>2848</td>\n",
       "    </tr>\n",
       "    <tr>\n",
       "      <th>1</th>\n",
       "      <td>68.0</td>\n",
       "      <td>74.0</td>\n",
       "      <td>32</td>\n",
       "      <td>863</td>\n",
       "    </tr>\n",
       "    <tr>\n",
       "      <th>2</th>\n",
       "      <td>67.5</td>\n",
       "      <td>70.3</td>\n",
       "      <td>44</td>\n",
       "      <td>1531</td>\n",
       "    </tr>\n",
       "    <tr>\n",
       "      <th>5</th>\n",
       "      <td>44.9</td>\n",
       "      <td>48.1</td>\n",
       "      <td>124</td>\n",
       "      <td>355</td>\n",
       "    </tr>\n",
       "    <tr>\n",
       "      <th>7</th>\n",
       "      <td>69.6</td>\n",
       "      <td>76.8</td>\n",
       "      <td>22</td>\n",
       "      <td>8055</td>\n",
       "    </tr>\n",
       "  </tbody>\n",
       "</table>\n",
       "</div>"
      ],
      "text/plain": [
       "   lifeMale  lifeFemale  infantMortality  GDPperCapita\n",
       "0      45.0        46.0              154          2848\n",
       "1      68.0        74.0               32           863\n",
       "2      67.5        70.3               44          1531\n",
       "5      44.9        48.1              124           355\n",
       "7      69.6        76.8               22          8055"
      ]
     },
     "execution_count": 58,
     "metadata": {},
     "output_type": "execute_result"
    }
   ],
   "source": [
    "df_features_clean.head()"
   ]
  },
  {
   "cell_type": "code",
   "execution_count": 59,
   "metadata": {
    "collapsed": true
   },
   "outputs": [],
   "source": [
    "ar_features_clean = np.array(df_features_clean)"
   ]
  },
  {
   "cell_type": "code",
   "execution_count": 112,
   "metadata": {
    "collapsed": false
   },
   "outputs": [
    {
     "name": "stdout",
     "output_type": "stream",
     "text": [
      "Difference of features and whitened centroid values is least at 3074.55738999.     As such data row 0 is a member of centroid 8.\n",
      "Difference of features and whitened centroid values is least at 1018.55738999.     As such data row 1 is a member of centroid 8.\n",
      "Difference of features and whitened centroid values is least at 1694.35738999.     As such data row 2 is a member of centroid 8.\n",
      "Difference of features and whitened centroid values is least at 553.557389992.     As such data row 3 is a member of centroid 8.\n",
      "Difference of features and whitened centroid values is least at 8204.95738999.     As such data row 4 is a member of centroid 8.\n",
      "Difference of features and whitened centroid values is least at 501.757389992.     As such data row 5 is a member of centroid 8.\n",
      "Difference of features and whitened centroid values is least at 20190.15739.     As such data row 6 is a member of centroid 8.\n",
      "Difference of features and whitened centroid values is least at 29147.35739.     As such data row 7 is a member of centroid 8.\n",
      "Difference of features and whitened centroid values is least at 476.557389992.     As such data row 8 is a member of centroid 8.\n",
      "Difference of features and whitened centroid values is least at 12688.15739.     As such data row 9 is a member of centroid 8.\n",
      "Difference of features and whitened centroid values is least at 9218.95738999.     As such data row 10 is a member of centroid 8.\n",
      "Difference of features and whitened centroid values is least at 455.857389992.     As such data row 11 is a member of centroid 8.\n",
      "Difference of features and whitened centroid values is least at 7315.85738999.     As such data row 12 is a member of centroid 8.\n",
      "Difference of features and whitened centroid values is least at 1129.75738999.     As such data row 13 is a member of centroid 8.\n",
      "Difference of features and whitened centroid values is least at 26725.05739.     As such data row 14 is a member of centroid 8.\n",
      "Difference of features and whitened centroid values is least at 2730.05738999.     As such data row 15 is a member of centroid 8.\n",
      "Difference of features and whitened centroid values is least at 566.157389992.     As such data row 16 is a member of centroid 8.\n",
      "Difference of features and whitened centroid values is least at 358.057389992.     As such data row 17 is a member of centroid 8.\n",
      "Difference of features and whitened centroid values is least at 1079.55738999.     As such data row 18 is a member of centroid 8.\n",
      "Difference of features and whitened centroid values is least at 411.957389992.     As such data row 19 is a member of centroid 8.\n",
      "Difference of features and whitened centroid values is least at 3778.15738999.     As such data row 20 is a member of centroid 8.\n",
      "Difference of features and whitened centroid values is least at 4668.15738999.     As such data row 21 is a member of centroid 8.\n",
      "Difference of features and whitened centroid values is least at 16825.05739.     As such data row 22 is a member of centroid 8.\n",
      "Difference of features and whitened centroid values is least at 1658.25738999.     As such data row 23 is a member of centroid 8.\n",
      "Difference of features and whitened centroid values is least at 335.657389992.     As such data row 24 is a member of centroid 8.\n",
      "Difference of features and whitened centroid values is least at 394.857389992.     As such data row 25 is a member of centroid 8.\n",
      "Difference of features and whitened centroid values is least at 321.557389992.     As such data row 26 is a member of centroid 8.\n",
      "Difference of features and whitened centroid values is least at 778.257389992.     As such data row 27 is a member of centroid 8.\n",
      "Difference of features and whitened centroid values is least at 19088.45739.     As such data row 28 is a member of centroid 8.\n",
      "Difference of features and whitened centroid values is least at 1149.55738999.     As such data row 29 is a member of centroid 8.\n",
      "Difference of features and whitened centroid values is least at 553.957389992.     As such data row 30 is a member of centroid 8.\n",
      "Difference of features and whitened centroid values is least at 379.157389992.     As such data row 31 is a member of centroid 8.\n",
      "Difference of features and whitened centroid values is least at 4881.15738999.     As such data row 32 is a member of centroid 8.\n",
      "Difference of features and whitened centroid values is least at 741.457389992.     As such data row 33 is a member of centroid 8.\n",
      "Difference of features and whitened centroid values is least at 2362.45738999.     As such data row 34 is a member of centroid 8.\n",
      "Difference of features and whitened centroid values is least at 545.557389992.     As such data row 35 is a member of centroid 8.\n",
      "Difference of features and whitened centroid values is least at 1181.55738999.     As such data row 36 is a member of centroid 8.\n",
      "Difference of features and whitened centroid values is least at 5579.55738999.     As such data row 37 is a member of centroid 8.\n",
      "Difference of features and whitened centroid values is least at 2843.25738999.     As such data row 38 is a member of centroid 8.\n",
      "Difference of features and whitened centroid values is least at 4150.15738999.     As such data row 39 is a member of centroid 8.\n",
      "Difference of features and whitened centroid values is least at 2125.75738999.     As such data row 40 is a member of centroid 8.\n",
      "Difference of features and whitened centroid values is least at 11602.75739.     As such data row 41 is a member of centroid 8.\n",
      "Difference of features and whitened centroid values is least at 4586.35738999.     As such data row 42 is a member of centroid 8.\n",
      "Difference of features and whitened centroid values is least at 293.357389992.     As such data row 43 is a member of centroid 8.\n",
      "Difference of features and whitened centroid values is least at 33330.85739.     As such data row 44 is a member of centroid 8.\n",
      "Difference of features and whitened centroid values is least at 1081.25738999.     As such data row 45 is a member of centroid 8.\n",
      "Difference of features and whitened centroid values is least at 1665.55738999.     As such data row 46 is a member of centroid 8.\n",
      "Difference of features and whitened centroid values is least at 1732.35738999.     As such data row 47 is a member of centroid 8.\n",
      "Difference of features and whitened centroid values is least at 1140.55738999.     As such data row 48 is a member of centroid 8.\n",
      "Difference of features and whitened centroid values is least at 1819.55738999.     As such data row 49 is a member of centroid 8.\n",
      "Difference of features and whitened centroid values is least at 576.557389992.     As such data row 50 is a member of centroid 8.\n",
      "Difference of features and whitened centroid values is least at 276.757389992.     As such data row 51 is a member of centroid 8.\n",
      "Difference of features and whitened centroid values is least at 2565.45738999.     As such data row 52 is a member of centroid 8.\n",
      "Difference of features and whitened centroid values is least at 284.557389992.     As such data row 53 is a member of centroid 8.\n",
      "Difference of features and whitened centroid values is least at 2740.05738999.     As such data row 54 is a member of centroid 8.\n",
      "Difference of features and whitened centroid values is least at 24592.65739.     As such data row 55 is a member of centroid 8.\n",
      "Difference of features and whitened centroid values is least at 26590.05739.     As such data row 56 is a member of centroid 8.\n",
      "Difference of features and whitened centroid values is least at 19902.65739.     As such data row 57 is a member of centroid 8.\n",
      "Difference of features and whitened centroid values is least at 5184.55738999.     As such data row 58 is a member of centroid 8.\n",
      "Difference of features and whitened centroid values is least at 518.657389992.     As such data row 59 is a member of centroid 8.\n",
      "Difference of features and whitened centroid values is least at 492.757389992.     As such data row 60 is a member of centroid 8.\n",
      "Difference of features and whitened centroid values is least at 29772.85739.     As such data row 61 is a member of centroid 8.\n",
      "Difference of features and whitened centroid values is least at 567.657389992.     As such data row 62 is a member of centroid 8.\n",
      "Difference of features and whitened centroid values is least at 8829.65738999.     As such data row 63 is a member of centroid 8.\n",
      "Difference of features and whitened centroid values is least at 9285.45738999.     As such data row 64 is a member of centroid 8.\n",
      "Difference of features and whitened centroid values is least at 1548.05738999.     As such data row 65 is a member of centroid 8.\n",
      "Difference of features and whitened centroid values is least at 640.557389992.     As such data row 66 is a member of centroid 8.\n",
      "Difference of features and whitened centroid values is least at 332.157389992.     As such data row 67 is a member of centroid 8.\n",
      "Difference of features and whitened centroid values is least at 894.557389992.     As such data row 68 is a member of centroid 8.\n",
      "Difference of features and whitened centroid values is least at 558.357389992.     As such data row 69 is a member of centroid 8.\n",
      "Difference of features and whitened centroid values is least at 853.357389992.     As such data row 70 is a member of centroid 8.\n",
      "Difference of features and whitened centroid values is least at 23042.45739.     As such data row 71 is a member of centroid 8.\n",
      "Difference of features and whitened centroid values is least at 4458.85738999.     As such data row 72 is a member of centroid 8.\n",
      "Difference of features and whitened centroid values is least at 26362.15739.     As such data row 73 is a member of centroid 8.\n",
      "Difference of features and whitened centroid values is least at 543.357389992.     As such data row 74 is a member of centroid 8.\n",
      "Difference of features and whitened centroid values is least at 1178.85738999.     As such data row 75 is a member of centroid 8.\n",
      "Difference of features and whitened centroid values is least at 1703.05738999.     As such data row 76 is a member of centroid 8.\n",
      "Difference of features and whitened centroid values is least at 11509.35739.     As such data row 77 is a member of centroid 8.\n",
      "Difference of features and whitened centroid values is least at 17559.95739.     As such data row 78 is a member of centroid 8.\n",
      "Difference of features and whitened centroid values is least at 16881.75739.     As such data row 79 is a member of centroid 8.\n",
      "Difference of features and whitened centroid values is least at 19266.05739.     As such data row 80 is a member of centroid 8.\n",
      "Difference of features and whitened centroid values is least at 905.757389992.     As such data row 81 is a member of centroid 8.\n",
      "Difference of features and whitened centroid values is least at 1921.75738999.     As such data row 82 is a member of centroid 8.\n",
      "Difference of features and whitened centroid values is least at 41863.35739.     As such data row 83 is a member of centroid 8.\n",
      "Difference of features and whitened centroid values is least at 1379.05738999.     As such data row 84 is a member of centroid 8.\n",
      "Difference of features and whitened centroid values is least at 1145.85738999.     As such data row 85 is a member of centroid 8.\n",
      "Difference of features and whitened centroid values is least at 484.557389992.     As such data row 86 is a member of centroid 8.\n",
      "Difference of features and whitened centroid values is least at 821.557389992.     As such data row 87 is a member of centroid 8.\n",
      "Difference of features and whitened centroid values is least at 418.557389992.     As such data row 88 is a member of centroid 8.\n",
      "Difference of features and whitened centroid values is least at 9871.35738999.     As such data row 89 is a member of centroid 8.\n",
      "Difference of features and whitened centroid values is least at 15904.85739.     As such data row 90 is a member of centroid 8.\n",
      "Difference of features and whitened centroid values is least at 486.857389992.     As such data row 91 is a member of centroid 8.\n",
      "Difference of features and whitened centroid values is least at 533.557389992.     As such data row 92 is a member of centroid 8.\n",
      "Difference of features and whitened centroid values is least at 1898.35738999.     As such data row 93 is a member of centroid 8.\n",
      "Difference of features and whitened centroid values is least at 3264.35738999.     As such data row 94 is a member of centroid 8.\n",
      "Difference of features and whitened centroid values is least at 656.757389992.     As such data row 95 is a member of centroid 8.\n",
      "Difference of features and whitened centroid values is least at 1361.55738999.     As such data row 96 is a member of centroid 8.\n",
      "Difference of features and whitened centroid values is least at 5666.95738999.     As such data row 97 is a member of centroid 8.\n",
      "Difference of features and whitened centroid values is least at 1730.45738999.     As such data row 98 is a member of centroid 8.\n",
      "Difference of features and whitened centroid values is least at 35249.35739.     As such data row 99 is a member of centroid 8.\n",
      "Difference of features and whitened centroid values is least at 1809.55738999.     As such data row 100 is a member of centroid 8.\n",
      "Difference of features and whitened centroid values is least at 390.557389992.     As such data row 101 is a member of centroid 8.\n",
      "Difference of features and whitened centroid values is least at 346.957389992.     As such data row 102 is a member of centroid 8.\n",
      "Difference of features and whitened centroid values is least at 4449.75738999.     As such data row 103 is a member of centroid 8.\n",
      "Difference of features and whitened centroid values is least at 1238.55738999.     As such data row 104 is a member of centroid 8.\n",
      "Difference of features and whitened centroid values is least at 449.657389992.     As such data row 105 is a member of centroid 8.\n",
      "Difference of features and whitened centroid values is least at 8936.25738999.     As such data row 106 is a member of centroid 8.\n",
      "Difference of features and whitened centroid values is least at 1778.65738999.     As such data row 107 is a member of centroid 8.\n",
      "Difference of features and whitened centroid values is least at 12859.55739.     As such data row 108 is a member of centroid 8.\n",
      "Difference of features and whitened centroid values is least at 581.557389992.     As such data row 109 is a member of centroid 8.\n",
      "Difference of features and whitened centroid values is least at 3647.85738999.     As such data row 110 is a member of centroid 8.\n",
      "Difference of features and whitened centroid values is least at 2857.55738999.     As such data row 111 is a member of centroid 8.\n",
      "Difference of features and whitened centroid values is least at 2238.75738999.     As such data row 112 is a member of centroid 8.\n",
      "Difference of features and whitened centroid values is least at 525.557389992.     As such data row 113 is a member of centroid 8.\n",
      "Difference of features and whitened centroid values is least at 553.157389992.     As such data row 114 is a member of centroid 8.\n",
      "Difference of features and whitened centroid values is least at 1430.85738999.     As such data row 115 is a member of centroid 8.\n",
      "Difference of features and whitened centroid values is least at 262.457389992.     As such data row 116 is a member of centroid 8.\n",
      "Difference of features and whitened centroid values is least at 2578.85738999.     As such data row 117 is a member of centroid 8.\n",
      "Difference of features and whitened centroid values is least at 2211.85738999.     As such data row 118 is a member of centroid 8.\n",
      "Difference of features and whitened centroid values is least at 381.257389992.     As such data row 119 is a member of centroid 8.\n",
      "Difference of features and whitened centroid values is least at 25778.15739.     As such data row 120 is a member of centroid 8.\n",
      "Difference of features and whitened centroid values is least at 9183.25738999.     As such data row 121 is a member of centroid 8.\n",
      "Difference of features and whitened centroid values is least at 19596.35739.     As such data row 122 is a member of centroid 8.\n",
      "Difference of features and whitened centroid values is least at 17008.95739.     As such data row 123 is a member of centroid 8.\n",
      "Difference of features and whitened centroid values is least at 625.957389992.     As such data row 124 is a member of centroid 8.\n",
      "Difference of features and whitened centroid values is least at 399.657389992.     As such data row 125 is a member of centroid 8.\n",
      "Difference of features and whitened centroid values is least at 750.357389992.     As such data row 126 is a member of centroid 8.\n",
      "Difference of features and whitened centroid values is least at 33875.95739.     As such data row 127 is a member of centroid 8.\n",
      "Difference of features and whitened centroid values is least at 6380.75738999.     As such data row 128 is a member of centroid 8.\n",
      "Difference of features and whitened centroid values is least at 687.557389992.     As such data row 129 is a member of centroid 8.\n",
      "Difference of features and whitened centroid values is least at 6557.55738999.     As such data row 130 is a member of centroid 8.\n",
      "Difference of features and whitened centroid values is least at 3084.75738999.     As such data row 131 is a member of centroid 8.\n",
      "Difference of features and whitened centroid values is least at 1241.45738999.     As such data row 132 is a member of centroid 8.\n",
      "Difference of features and whitened centroid values is least at 2020.05738999.     As such data row 133 is a member of centroid 8.\n",
      "Difference of features and whitened centroid values is least at 2660.35738999.     As such data row 134 is a member of centroid 8.\n",
      "Difference of features and whitened centroid values is least at 1246.35738999.     As such data row 135 is a member of centroid 8.\n",
      "Difference of features and whitened centroid values is least at 3194.95738999.     As such data row 136 is a member of centroid 8.\n",
      "Difference of features and whitened centroid values is least at 10568.25739.     As such data row 137 is a member of centroid 8.\n",
      "Difference of features and whitened centroid values is least at 12356.55739.     As such data row 138 is a member of centroid 8.\n",
      "Difference of features and whitened centroid values is least at 14156.95739.     As such data row 139 is a member of centroid 8.\n",
      "Difference of features and whitened centroid values is least at 11993.25739.     As such data row 140 is a member of centroid 8.\n",
      "Difference of features and whitened centroid values is least at 1714.75738999.     As such data row 141 is a member of centroid 8.\n",
      "Difference of features and whitened centroid values is least at 2581.05738999.     As such data row 142 is a member of centroid 8.\n",
      "Difference of features and whitened centroid values is least at 428.757389992.     As such data row 143 is a member of centroid 8.\n",
      "Difference of features and whitened centroid values is least at 4963.35738999.     As such data row 144 is a member of centroid 8.\n",
      "Difference of features and whitened centroid values is least at 3325.35738999.     As such data row 145 is a member of centroid 8.\n",
      "Difference of features and whitened centroid values is least at 1284.15738999.     As such data row 146 is a member of centroid 8.\n",
      "Difference of features and whitened centroid values is least at 6730.85738999.     As such data row 147 is a member of centroid 8.\n",
      "Difference of features and whitened centroid values is least at 718.157389992.     As such data row 148 is a member of centroid 8.\n",
      "Difference of features and whitened centroid values is least at 7404.95738999.     As such data row 149 is a member of centroid 8.\n",
      "Difference of features and whitened centroid values is least at 518.657389992.     As such data row 150 is a member of centroid 8.\n",
      "Difference of features and whitened centroid values is least at 25722.15739.     As such data row 151 is a member of centroid 8.\n",
      "Difference of features and whitened centroid values is least at 3402.35738999.     As such data row 152 is a member of centroid 8.\n",
      "Difference of features and whitened centroid values is least at 9787.55738999.     As such data row 153 is a member of centroid 8.\n",
      "Difference of features and whitened centroid values is least at 834.057389992.     As such data row 154 is a member of centroid 8.\n",
      "Difference of features and whitened centroid values is least at 310.557389992.     As such data row 155 is a member of centroid 8.\n",
      "Difference of features and whitened centroid values is least at 3390.15738999.     As such data row 156 is a member of centroid 8.\n",
      "Difference of features and whitened centroid values is least at 14255.55739.     As such data row 157 is a member of centroid 8.\n",
      "Difference of features and whitened centroid values is least at 858.857389992.     As such data row 158 is a member of centroid 8.\n",
      "Difference of features and whitened centroid values is least at 198.557389992.     As such data row 159 is a member of centroid 8.\n",
      "Difference of features and whitened centroid values is least at 1115.55738999.     As such data row 160 is a member of centroid 8.\n",
      "Difference of features and whitened centroid values is least at 1555.55738999.     As such data row 161 is a member of centroid 8.\n",
      "Difference of features and whitened centroid values is least at 26396.55739.     As such data row 162 is a member of centroid 8.\n",
      "Difference of features and whitened centroid values is least at 42559.65739.     As such data row 163 is a member of centroid 8.\n",
      "Difference of features and whitened centroid values is least at 3725.45738999.     As such data row 164 is a member of centroid 8.\n",
      "Difference of features and whitened centroid values is least at 293.957389992.     As such data row 165 is a member of centroid 8.\n",
      "Difference of features and whitened centroid values is least at 303.357389992.     As such data row 166 is a member of centroid 8.\n",
      "Difference of features and whitened centroid values is least at 3046.15738999.     As such data row 167 is a member of centroid 8.\n",
      "Difference of features and whitened centroid values is least at 489.857389992.     As such data row 168 is a member of centroid 8.\n",
      "Difference of features and whitened centroid values is least at 1909.55738999.     As such data row 169 is a member of centroid 8.\n",
      "Difference of features and whitened centroid values is least at 4226.25738999.     As such data row 170 is a member of centroid 8.\n",
      "Difference of features and whitened centroid values is least at 2187.65738999.     As such data row 171 is a member of centroid 8.\n",
      "Difference of features and whitened centroid values is least at 2977.75738999.     As such data row 172 is a member of centroid 8.\n",
      "Difference of features and whitened centroid values is least at 488.757389992.     As such data row 173 is a member of centroid 8.\n",
      "Difference of features and whitened centroid values is least at 482.257389992.     As such data row 174 is a member of centroid 8.\n",
      "Difference of features and whitened centroid values is least at 831.157389992.     As such data row 175 is a member of centroid 8.\n",
      "Difference of features and whitened centroid values is least at 17836.95739.     As such data row 176 is a member of centroid 8.\n",
      "Difference of features and whitened centroid values is least at 19054.85739.     As such data row 177 is a member of centroid 8.\n",
      "Difference of features and whitened centroid values is least at 26179.05739.     As such data row 178 is a member of centroid 8.\n",
      "Difference of features and whitened centroid values is least at 5746.25738999.     As such data row 179 is a member of centroid 8.\n",
      "Difference of features and whitened centroid values is least at 594.557389992.     As such data row 180 is a member of centroid 8.\n",
      "Difference of features and whitened centroid values is least at 1443.55738999.     As such data row 181 is a member of centroid 8.\n",
      "Difference of features and whitened centroid values is least at 3644.25738999.     As such data row 182 is a member of centroid 8.\n",
      "Difference of features and whitened centroid values is least at 423.057389992.     As such data row 183 is a member of centroid 8.\n",
      "Difference of features and whitened centroid values is least at 909.357389992.     As such data row 184 is a member of centroid 8.\n",
      "Difference of features and whitened centroid values is least at 1632.65738999.     As such data row 185 is a member of centroid 8.\n",
      "Difference of features and whitened centroid values is least at 552.457389992.     As such data row 186 is a member of centroid 8.\n",
      "Difference of features and whitened centroid values is least at 932.557389992.     As such data row 187 is a member of centroid 8.\n"
     ]
    }
   ],
   "source": [
    "for data_counter, val in enumerate(ar_features_clean):\n",
    "\n",
    "    row_sub_sum= None\n",
    "    row_sub_sum_min = None\n",
    "    member_of = None\n",
    "    for centroid_counter, values in enumerate(ar_centroids[0]):\n",
    "    #     print(centroid_counter)\n",
    "        row_sub_sum = (ar_features_clean[data_counter] - ar_centroids[0][centroid_counter]).sum()\n",
    "#         print(row_sub_sum)\n",
    "        if centroid_counter == 0:\n",
    "            row_sub_sum_min = row_sub_sum\n",
    "            member_of = 0\n",
    "        elif row_sub_sum <= row_sub_sum_min: # what to do if equal?:\n",
    "            row_sub_sum_min = row_sub_sum\n",
    "            member_of = centroid_counter\n",
    "    print(\"Difference of features and whitened centroid values is least at {}. \\\n",
    "    As such data row {} is a member of centroid {}.\".format(row_sub_sum_min,data_counter,member_of))"
   ]
  },
  {
   "cell_type": "code",
   "execution_count": 117,
   "metadata": {
    "collapsed": false
   },
   "outputs": [
    {
     "name": "stdout",
     "output_type": "stream",
     "text": [
      "30785.4408136\n",
      "Row 0 is in Centroid group 8\n",
      "10225.4408136\n",
      "Row 1 is in Centroid group 8\n",
      "16983.4408136\n",
      "Row 2 is in Centroid group 8\n",
      "5575.44081359\n",
      "Row 3 is in Centroid group 8\n",
      "82089.4408136\n",
      "Row 4 is in Centroid group 8\n",
      "5057.44081359\n",
      "Row 5 is in Centroid group 8\n",
      "201941.440814\n",
      "Row 6 is in Centroid group 8\n",
      "291513.440814\n",
      "Row 7 is in Centroid group 8\n",
      "4805.44081359\n",
      "Row 8 is in Centroid group 8\n",
      "126921.440814\n",
      "Row 9 is in Centroid group 8\n",
      "92229.4408136\n",
      "Row 10 is in Centroid group 8\n",
      "4598.44081359\n",
      "Row 11 is in Centroid group 8\n",
      "73198.4408136\n",
      "Row 12 is in Centroid group 8\n",
      "11337.4408136\n",
      "Row 13 is in Centroid group 8\n",
      "267290.440814\n",
      "Row 14 is in Centroid group 8\n",
      "27340.4408136\n",
      "Row 15 is in Centroid group 8\n",
      "5701.44081359\n",
      "Row 16 is in Centroid group 8\n",
      "3620.44081359\n",
      "Row 17 is in Centroid group 8\n",
      "10835.4408136\n",
      "Row 18 is in Centroid group 8\n",
      "4159.44081359\n",
      "Row 19 is in Centroid group 8\n",
      "37821.4408136\n",
      "Row 20 is in Centroid group 8\n",
      "46721.4408136\n",
      "Row 21 is in Centroid group 8\n",
      "168290.440814\n",
      "Row 22 is in Centroid group 8\n",
      "16622.4408136\n",
      "Row 23 is in Centroid group 8\n",
      "3396.44081359\n",
      "Row 24 is in Centroid group 8\n",
      "3988.44081359\n",
      "Row 25 is in Centroid group 8\n",
      "3255.44081359\n",
      "Row 26 is in Centroid group 8\n",
      "7822.44081359\n",
      "Row 27 is in Centroid group 8\n",
      "190924.440814\n",
      "Row 28 is in Centroid group 8\n",
      "11535.4408136\n",
      "Row 29 is in Centroid group 8\n",
      "5579.44081359\n",
      "Row 30 is in Centroid group 8\n",
      "3831.44081359\n",
      "Row 31 is in Centroid group 8\n",
      "48851.4408136\n",
      "Row 32 is in Centroid group 8\n",
      "7454.44081359\n",
      "Row 33 is in Centroid group 8\n",
      "23664.4408136\n",
      "Row 34 is in Centroid group 8\n",
      "5495.44081359\n",
      "Row 35 is in Centroid group 8\n",
      "11855.4408136\n",
      "Row 36 is in Centroid group 8\n",
      "55835.4408136\n",
      "Row 37 is in Centroid group 8\n",
      "28472.4408136\n",
      "Row 38 is in Centroid group 8\n",
      "41541.4408136\n",
      "Row 39 is in Centroid group 8\n",
      "21297.4408136\n",
      "Row 40 is in Centroid group 8\n",
      "116067.440814\n",
      "Row 41 is in Centroid group 8\n",
      "45903.4408136\n",
      "Row 42 is in Centroid group 8\n",
      "2973.44081359\n",
      "Row 43 is in Centroid group 8\n",
      "333348.440814\n",
      "Row 44 is in Centroid group 8\n",
      "10852.4408136\n",
      "Row 45 is in Centroid group 8\n",
      "16695.4408136\n",
      "Row 46 is in Centroid group 8\n",
      "17363.4408136\n",
      "Row 47 is in Centroid group 8\n",
      "11445.4408136\n",
      "Row 48 is in Centroid group 8\n",
      "18235.4408136\n",
      "Row 49 is in Centroid group 8\n",
      "5805.44081359\n",
      "Row 50 is in Centroid group 8\n",
      "2807.44081359\n",
      "Row 51 is in Centroid group 8\n",
      "25694.4408136\n",
      "Row 52 is in Centroid group 8\n",
      "2885.44081359\n",
      "Row 53 is in Centroid group 8\n",
      "27440.4408136\n",
      "Row 54 is in Centroid group 8\n",
      "245966.440814\n",
      "Row 55 is in Centroid group 8\n",
      "265940.440814\n",
      "Row 56 is in Centroid group 8\n",
      "199066.440814\n",
      "Row 57 is in Centroid group 8\n",
      "51885.4408136\n",
      "Row 58 is in Centroid group 8\n",
      "5226.44081359\n",
      "Row 59 is in Centroid group 8\n",
      "4967.44081359\n",
      "Row 60 is in Centroid group 8\n",
      "297768.440814\n",
      "Row 61 is in Centroid group 8\n",
      "5716.44081359\n",
      "Row 62 is in Centroid group 8\n",
      "88336.4408136\n",
      "Row 63 is in Centroid group 8\n",
      "92894.4408136\n",
      "Row 64 is in Centroid group 8\n",
      "15520.4408136\n",
      "Row 65 is in Centroid group 8\n",
      "6445.44081359\n",
      "Row 66 is in Centroid group 8\n",
      "3361.44081359\n",
      "Row 67 is in Centroid group 8\n",
      "8985.44081359\n",
      "Row 68 is in Centroid group 8\n",
      "5623.44081359\n",
      "Row 69 is in Centroid group 8\n",
      "8573.44081359\n",
      "Row 70 is in Centroid group 8\n",
      "230464.440814\n",
      "Row 71 is in Centroid group 8\n",
      "44628.4408136\n",
      "Row 72 is in Centroid group 8\n",
      "263661.440814\n",
      "Row 73 is in Centroid group 8\n",
      "5473.44081359\n",
      "Row 74 is in Centroid group 8\n",
      "11828.4408136\n",
      "Row 75 is in Centroid group 8\n",
      "17070.4408136\n",
      "Row 76 is in Centroid group 8\n",
      "115133.440814\n",
      "Row 77 is in Centroid group 8\n",
      "175639.440814\n",
      "Row 78 is in Centroid group 8\n",
      "168857.440814\n",
      "Row 79 is in Centroid group 8\n",
      "192700.440814\n",
      "Row 80 is in Centroid group 8\n",
      "9097.44081359\n",
      "Row 81 is in Centroid group 8\n",
      "19257.4408136\n",
      "Row 82 is in Centroid group 8\n",
      "418673.440814\n",
      "Row 83 is in Centroid group 8\n",
      "13830.4408136\n",
      "Row 84 is in Centroid group 8\n",
      "11498.4408136\n",
      "Row 85 is in Centroid group 8\n",
      "4885.44081359\n",
      "Row 86 is in Centroid group 8\n",
      "8255.44081359\n",
      "Row 87 is in Centroid group 8\n",
      "4225.44081359\n",
      "Row 88 is in Centroid group 8\n",
      "98753.4408136\n",
      "Row 89 is in Centroid group 8\n",
      "159088.440814\n",
      "Row 90 is in Centroid group 8\n",
      "4908.44081359\n",
      "Row 91 is in Centroid group 8\n",
      "5375.44081359\n",
      "Row 92 is in Centroid group 8\n",
      "19023.4408136\n",
      "Row 93 is in Centroid group 8\n",
      "32683.4408136\n",
      "Row 94 is in Centroid group 8\n",
      "6607.44081359\n",
      "Row 95 is in Centroid group 8\n",
      "13655.4408136\n",
      "Row 96 is in Centroid group 8\n",
      "56709.4408136\n",
      "Row 97 is in Centroid group 8\n",
      "17344.4408136\n",
      "Row 98 is in Centroid group 8\n",
      "352533.440814\n",
      "Row 99 is in Centroid group 8\n",
      "18135.4408136\n",
      "Row 100 is in Centroid group 8\n",
      "3945.44081359\n",
      "Row 101 is in Centroid group 8\n",
      "3509.44081359\n",
      "Row 102 is in Centroid group 8\n",
      "44537.4408136\n",
      "Row 103 is in Centroid group 8\n",
      "12425.4408136\n",
      "Row 104 is in Centroid group 8\n",
      "4536.44081359\n",
      "Row 105 is in Centroid group 8\n",
      "89402.4408136\n",
      "Row 106 is in Centroid group 8\n",
      "17826.4408136\n",
      "Row 107 is in Centroid group 8\n",
      "128635.440814\n",
      "Row 108 is in Centroid group 8\n",
      "5855.44081359\n",
      "Row 109 is in Centroid group 8\n",
      "36518.4408136\n",
      "Row 110 is in Centroid group 8\n",
      "28615.4408136\n",
      "Row 111 is in Centroid group 8\n",
      "22427.4408136\n",
      "Row 112 is in Centroid group 8\n",
      "5295.44081359\n",
      "Row 113 is in Centroid group 8\n",
      "5571.44081359\n",
      "Row 114 is in Centroid group 8\n",
      "14348.4408136\n",
      "Row 115 is in Centroid group 8\n",
      "2664.44081359\n",
      "Row 116 is in Centroid group 8\n",
      "25828.4408136\n",
      "Row 117 is in Centroid group 8\n",
      "22158.4408136\n",
      "Row 118 is in Centroid group 8\n",
      "3852.44081359\n",
      "Row 119 is in Centroid group 8\n",
      "257821.440814\n",
      "Row 120 is in Centroid group 8\n",
      "91872.4408136\n",
      "Row 121 is in Centroid group 8\n",
      "196003.440814\n",
      "Row 122 is in Centroid group 8\n",
      "170129.440814\n",
      "Row 123 is in Centroid group 8\n",
      "6299.44081359\n",
      "Row 124 is in Centroid group 8\n",
      "4036.44081359\n",
      "Row 125 is in Centroid group 8\n",
      "7543.44081359\n",
      "Row 126 is in Centroid group 8\n",
      "338799.440814\n",
      "Row 127 is in Centroid group 8\n",
      "63847.4408136\n",
      "Row 128 is in Centroid group 8\n",
      "6915.44081359\n",
      "Row 129 is in Centroid group 8\n",
      "65615.4408136\n",
      "Row 130 is in Centroid group 8\n",
      "30887.4408136\n",
      "Row 131 is in Centroid group 8\n",
      "12454.4408136\n",
      "Row 132 is in Centroid group 8\n",
      "20240.4408136\n",
      "Row 133 is in Centroid group 8\n",
      "26643.4408136\n",
      "Row 134 is in Centroid group 8\n",
      "12503.4408136\n",
      "Row 135 is in Centroid group 8\n",
      "31989.4408136\n",
      "Row 136 is in Centroid group 8\n",
      "105722.440814\n",
      "Row 137 is in Centroid group 8\n",
      "123605.440814\n",
      "Row 138 is in Centroid group 8\n",
      "141609.440814\n",
      "Row 139 is in Centroid group 8\n",
      "119972.440814\n",
      "Row 140 is in Centroid group 8\n",
      "17187.4408136\n",
      "Row 141 is in Centroid group 8\n",
      "25850.4408136\n",
      "Row 142 is in Centroid group 8\n",
      "4327.44081359\n",
      "Row 143 is in Centroid group 8\n",
      "49673.4408136\n",
      "Row 144 is in Centroid group 8\n",
      "33293.4408136\n",
      "Row 145 is in Centroid group 8\n",
      "12881.4408136\n",
      "Row 146 is in Centroid group 8\n",
      "67348.4408136\n",
      "Row 147 is in Centroid group 8\n",
      "7221.44081359\n",
      "Row 148 is in Centroid group 8\n",
      "74089.4408136\n",
      "Row 149 is in Centroid group 8\n",
      "5226.44081359\n",
      "Row 150 is in Centroid group 8\n",
      "257261.440814\n",
      "Row 151 is in Centroid group 8\n",
      "34063.4408136\n",
      "Row 152 is in Centroid group 8\n",
      "97915.4408136\n",
      "Row 153 is in Centroid group 8\n",
      "8380.44081359\n",
      "Row 154 is in Centroid group 8\n",
      "3145.44081359\n",
      "Row 155 is in Centroid group 8\n",
      "33941.4408136\n",
      "Row 156 is in Centroid group 8\n",
      "142595.440814\n",
      "Row 157 is in Centroid group 8\n",
      "8628.44081359\n",
      "Row 158 is in Centroid group 8\n",
      "2025.44081359\n",
      "Row 159 is in Centroid group 8\n",
      "11195.4408136\n",
      "Row 160 is in Centroid group 8\n",
      "15595.4408136\n",
      "Row 161 is in Centroid group 8\n",
      "264005.440814\n",
      "Row 162 is in Centroid group 8\n",
      "425636.440814\n",
      "Row 163 is in Centroid group 8\n",
      "37294.4408136\n",
      "Row 164 is in Centroid group 8\n",
      "2979.44081359\n",
      "Row 165 is in Centroid group 8\n",
      "3073.44081359\n",
      "Row 166 is in Centroid group 8\n",
      "30501.4408136\n",
      "Row 167 is in Centroid group 8\n",
      "4938.44081359\n",
      "Row 168 is in Centroid group 8\n",
      "19135.4408136\n",
      "Row 169 is in Centroid group 8\n",
      "42302.4408136\n",
      "Row 170 is in Centroid group 8\n",
      "21916.4408136\n",
      "Row 171 is in Centroid group 8\n",
      "29817.4408136\n",
      "Row 172 is in Centroid group 8\n",
      "4927.44081359\n",
      "Row 173 is in Centroid group 8\n",
      "4862.44081359\n",
      "Row 174 is in Centroid group 8\n",
      "8351.44081359\n",
      "Row 175 is in Centroid group 8\n",
      "178409.440814\n",
      "Row 176 is in Centroid group 8\n",
      "190588.440814\n",
      "Row 177 is in Centroid group 8\n",
      "261830.440814\n",
      "Row 178 is in Centroid group 8\n",
      "57502.4408136\n",
      "Row 179 is in Centroid group 8\n",
      "5985.44081359\n",
      "Row 180 is in Centroid group 8\n",
      "14475.4408136\n",
      "Row 181 is in Centroid group 8\n",
      "36482.4408136\n",
      "Row 182 is in Centroid group 8\n",
      "4270.44081359\n",
      "Row 183 is in Centroid group 8\n",
      "9133.44081359\n",
      "Row 184 is in Centroid group 8\n",
      "16366.4408136\n",
      "Row 185 is in Centroid group 8\n",
      "5564.44081359\n",
      "Row 186 is in Centroid group 8\n",
      "9365.44081359\n",
      "Row 187 is in Centroid group 8\n"
     ]
    }
   ],
   "source": [
    "for row_cnt, val in enumerate(ar_features_clean):\n",
    "    cast1 = ar_features_clean[row_cnt] - ar_centroids[0]\n",
    "    print(cast1.sum())\n",
    "    centroid_group = min(enumerate(cast1), key = lambda x: sum(x[1]))[0]  # this lambda function will find the min\n",
    "    print(\"Row {} is in Centroid group {}\".format(row_cnt, centroid_group))"
   ]
  },
  {
   "cell_type": "code",
   "execution_count": null,
   "metadata": {
    "collapsed": true
   },
   "outputs": [],
   "source": []
  },
  {
   "cell_type": "code",
   "execution_count": null,
   "metadata": {
    "collapsed": true
   },
   "outputs": [],
   "source": []
  },
  {
   "cell_type": "code",
   "execution_count": null,
   "metadata": {
    "collapsed": true
   },
   "outputs": [],
   "source": []
  },
  {
   "cell_type": "code",
   "execution_count": null,
   "metadata": {
    "collapsed": true
   },
   "outputs": [],
   "source": []
  },
  {
   "cell_type": "code",
   "execution_count": null,
   "metadata": {
    "collapsed": true
   },
   "outputs": [],
   "source": []
  },
  {
   "cell_type": "code",
   "execution_count": null,
   "metadata": {
    "collapsed": true
   },
   "outputs": [],
   "source": []
  },
  {
   "cell_type": "code",
   "execution_count": null,
   "metadata": {
    "collapsed": true
   },
   "outputs": [],
   "source": []
  },
  {
   "cell_type": "code",
   "execution_count": null,
   "metadata": {
    "collapsed": true
   },
   "outputs": [],
   "source": []
  },
  {
   "cell_type": "code",
   "execution_count": null,
   "metadata": {
    "collapsed": true
   },
   "outputs": [],
   "source": []
  },
  {
   "cell_type": "code",
   "execution_count": null,
   "metadata": {
    "collapsed": true
   },
   "outputs": [],
   "source": []
  },
  {
   "cell_type": "code",
   "execution_count": null,
   "metadata": {
    "collapsed": true
   },
   "outputs": [],
   "source": []
  },
  {
   "cell_type": "code",
   "execution_count": null,
   "metadata": {
    "collapsed": true
   },
   "outputs": [],
   "source": []
  },
  {
   "cell_type": "code",
   "execution_count": null,
   "metadata": {
    "collapsed": true
   },
   "outputs": [],
   "source": []
  },
  {
   "cell_type": "code",
   "execution_count": 24,
   "metadata": {
    "collapsed": true
   },
   "outputs": [],
   "source": [
    "# must need to whiten the df too - comparing whitened centroids to non-whitened df doesn't make seense."
   ]
  },
  {
   "cell_type": "code",
   "execution_count": 44,
   "metadata": {
    "collapsed": false
   },
   "outputs": [
    {
     "data": {
      "text/plain": [
       "lifeMale           0\n",
       "lifeFemale         0\n",
       "infantMortality    0\n",
       "GDPperCapita       0\n",
       "Name: 0, dtype: float64"
      ]
     },
     "execution_count": 44,
     "metadata": {},
     "output_type": "execute_result"
    }
   ],
   "source": [
    "dfcb.iloc[0] - arr10[0][0]"
   ]
  },
  {
   "cell_type": "code",
   "execution_count": null,
   "metadata": {
    "collapsed": true
   },
   "outputs": [],
   "source": []
  },
  {
   "cell_type": "code",
   "execution_count": null,
   "metadata": {
    "collapsed": true
   },
   "outputs": [],
   "source": []
  },
  {
   "cell_type": "code",
   "execution_count": 26,
   "metadata": {
    "collapsed": true
   },
   "outputs": [],
   "source": [
    "# experimental section\n"
   ]
  },
  {
   "cell_type": "code",
   "execution_count": 27,
   "metadata": {
    "collapsed": true
   },
   "outputs": [],
   "source": [
    "a1 = dfw2.iloc[0,]"
   ]
  },
  {
   "cell_type": "code",
   "execution_count": 28,
   "metadata": {
    "collapsed": false
   },
   "outputs": [
    {
     "data": {
      "text/plain": [
       "lifeMale             45\n",
       "lifeFemale           46\n",
       "infantMortality     154\n",
       "GDPperCapita       2848\n",
       "Name: 0, dtype: float64"
      ]
     },
     "execution_count": 28,
     "metadata": {},
     "output_type": "execute_result"
    }
   ],
   "source": [
    "a1\n"
   ]
  },
  {
   "cell_type": "code",
   "execution_count": 29,
   "metadata": {
    "collapsed": true
   },
   "outputs": [],
   "source": [
    "na1 = np.array(a1)"
   ]
  },
  {
   "cell_type": "code",
   "execution_count": 30,
   "metadata": {
    "collapsed": false
   },
   "outputs": [
    {
     "data": {
      "text/plain": [
       "(array([   45.,    46.,   154.,  2848.]),\n",
       " array([ 6.53455789,  6.61807942,  0.41244154,  0.25647872]))"
      ]
     },
     "execution_count": 30,
     "metadata": {},
     "output_type": "execute_result"
    }
   ],
   "source": [
    "na1 , arr10[0][0]"
   ]
  },
  {
   "cell_type": "code",
   "execution_count": 31,
   "metadata": {
    "collapsed": true
   },
   "outputs": [],
   "source": [
    "r1 = na1 - arr10[0][0]"
   ]
  },
  {
   "cell_type": "code",
   "execution_count": 32,
   "metadata": {
    "collapsed": false
   },
   "outputs": [
    {
     "data": {
      "text/plain": [
       "array([   38.46544211,    39.38192058,   153.58755846,  2847.74352128])"
      ]
     },
     "execution_count": 32,
     "metadata": {},
     "output_type": "execute_result"
    }
   ],
   "source": [
    "r1"
   ]
  },
  {
   "cell_type": "code",
   "execution_count": 95,
   "metadata": {
    "collapsed": false
   },
   "outputs": [
    {
     "data": {
      "text/plain": [
       "array([   45.,    46.,   154.,  2848.])"
      ]
     },
     "execution_count": 95,
     "metadata": {},
     "output_type": "execute_result"
    }
   ],
   "source": [
    "ar_features_clean[0]"
   ]
  },
  {
   "cell_type": "code",
   "execution_count": 96,
   "metadata": {
    "collapsed": false
   },
   "outputs": [
    {
     "data": {
      "text/plain": [
       "array([[ 4.73891584,  4.46290713,  2.83381706,  0.03232314],\n",
       "       [ 7.57162724,  7.17220628,  0.22647459,  2.043228  ],\n",
       "       [ 5.92734851,  5.45905091,  1.87721552,  0.1585886 ],\n",
       "       [ 4.3559465 ,  4.06808367,  3.66364083,  0.07454862],\n",
       "       [ 6.7418259 ,  6.61355682,  0.56452935,  0.29259488],\n",
       "       [ 7.35584461,  7.09031481,  0.27066476,  1.15659281],\n",
       "       [ 6.63764845,  6.28846415,  1.14502418,  0.16406281],\n",
       "       [ 5.21459989,  4.89798179,  2.0980099 ,  0.09440701],\n",
       "       [ 7.61548268,  7.29104312,  0.14779155,  3.38829266],\n",
       "       [ 7.20375448,  6.85702375,  0.4618486 ,  0.30190503]])"
      ]
     },
     "execution_count": 96,
     "metadata": {},
     "output_type": "execute_result"
    }
   ],
   "source": [
    "ar_centroids[0]"
   ]
  },
  {
   "cell_type": "code",
   "execution_count": 93,
   "metadata": {
    "collapsed": true
   },
   "outputs": [],
   "source": [
    "cast1 = ar_features_clean[0] - ar_centroids[0]"
   ]
  },
  {
   "cell_type": "code",
   "execution_count": 99,
   "metadata": {
    "collapsed": false
   },
   "outputs": [
    {
     "data": {
      "text/plain": [
       "(40.269999999999996, 41.54, 37.49)"
      ]
     },
     "execution_count": 99,
     "metadata": {},
     "output_type": "execute_result"
    }
   ],
   "source": [
    "45 - 4.73, 46 - 4.46 , 45 - 7.51"
   ]
  },
  {
   "cell_type": "code",
   "execution_count": 94,
   "metadata": {
    "collapsed": false
   },
   "outputs": [
    {
     "data": {
      "text/plain": [
       "array([[   40.26108416,    41.53709287,   151.16618294,  2847.96767686],\n",
       "       [   37.42837276,    38.82779372,   153.77352541,  2845.956772  ],\n",
       "       [   39.07265149,    40.54094909,   152.12278448,  2847.8414114 ],\n",
       "       [   40.6440535 ,    41.93191633,   150.33635917,  2847.92545138],\n",
       "       [   38.2581741 ,    39.38644318,   153.43547065,  2847.70740512],\n",
       "       [   37.64415539,    38.90968519,   153.72933524,  2846.84340719],\n",
       "       [   38.36235155,    39.71153585,   152.85497582,  2847.83593719],\n",
       "       [   39.78540011,    41.10201821,   151.9019901 ,  2847.90559299],\n",
       "       [   37.38451732,    38.70895688,   153.85220845,  2844.61170734],\n",
       "       [   37.79624552,    39.14297625,   153.5381514 ,  2847.69809497]])"
      ]
     },
     "execution_count": 94,
     "metadata": {},
     "output_type": "execute_result"
    }
   ],
   "source": [
    "cast1 # casting will subtract a data row from all values in the centroid"
   ]
  },
  {
   "cell_type": "code",
   "execution_count": 106,
   "metadata": {
    "collapsed": false
   },
   "outputs": [
    {
     "data": {
      "text/plain": [
       "8"
      ]
     },
     "execution_count": 106,
     "metadata": {},
     "output_type": "execute_result"
    }
   ],
   "source": [
    "# minidx = min(enumerate(data), key=lambda x:sum(x[1]))[0]\n",
    "test1 = min(enumerate(cast1), key = lambda x: sum(x[1]))[0]  # this lambda function will find the \n",
    "# row with the min difference\n",
    "\n",
    "test1"
   ]
  },
  {
   "cell_type": "code",
   "execution_count": 100,
   "metadata": {
    "collapsed": false
   },
   "outputs": [
    {
     "ename": "ValueError",
     "evalue": "operands could not be broadcast together with shapes (188,4) (10,4) ",
     "output_type": "error",
     "traceback": [
      "\u001b[1;31m---------------------------------------------------------------------------\u001b[0m",
      "\u001b[1;31mValueError\u001b[0m                                Traceback (most recent call last)",
      "\u001b[1;32m<ipython-input-100-533480ed626f>\u001b[0m in \u001b[0;36m<module>\u001b[1;34m()\u001b[0m\n\u001b[1;32m----> 1\u001b[1;33m \u001b[0mcast1\u001b[0m \u001b[1;33m=\u001b[0m \u001b[0mar_features_clean\u001b[0m \u001b[1;33m-\u001b[0m \u001b[0mar_centroids\u001b[0m\u001b[1;33m[\u001b[0m\u001b[1;36m0\u001b[0m\u001b[1;33m]\u001b[0m\u001b[1;33m\u001b[0m\u001b[0m\n\u001b[0m",
      "\u001b[1;31mValueError\u001b[0m: operands could not be broadcast together with shapes (188,4) (10,4) "
     ]
    }
   ],
   "source": [
    "cast1 = ar_features_clean - ar_centroids[0]"
   ]
  },
  {
   "cell_type": "code",
   "execution_count": null,
   "metadata": {
    "collapsed": true
   },
   "outputs": [],
   "source": []
  },
  {
   "cell_type": "code",
   "execution_count": null,
   "metadata": {
    "collapsed": true
   },
   "outputs": [],
   "source": []
  },
  {
   "cell_type": "code",
   "execution_count": null,
   "metadata": {
    "collapsed": true
   },
   "outputs": [],
   "source": []
  },
  {
   "cell_type": "code",
   "execution_count": null,
   "metadata": {
    "collapsed": true
   },
   "outputs": [],
   "source": []
  },
  {
   "cell_type": "code",
   "execution_count": null,
   "metadata": {
    "collapsed": true
   },
   "outputs": [],
   "source": []
  },
  {
   "cell_type": "code",
   "execution_count": null,
   "metadata": {
    "collapsed": true
   },
   "outputs": [],
   "source": []
  },
  {
   "cell_type": "code",
   "execution_count": null,
   "metadata": {
    "collapsed": true
   },
   "outputs": [],
   "source": []
  },
  {
   "cell_type": "code",
   "execution_count": null,
   "metadata": {
    "collapsed": false
   },
   "outputs": [],
   "source": [
    "# print(df.i_class.unique())\n",
    "c_chart = ['red','green','blue']\n",
    "for idx, val in enumerate(df.i_class.unique()):\n",
    "    df1 = df[df['i_class'] == val]\n",
    "    y = df1['s_width']\n",
    "    x = df1['s_length']\n",
    "    plt.scatter(x,y, color = c_chart[idx])\n",
    "plt.title('Iris Graph')\n",
    "plt.xlabel('Sepal Length')\n",
    "plt.ylabel('Sepal Width')\n",
    "red_patch = mpatches.Patch(color='red', label='Setosa')\n",
    "blue_patch = mpatches.Patch(color='blue', label = 'Versicolor')\n",
    "green_patch = mpatches.Patch(color='green', label = 'Virginica')\n",
    "plt.legend(handles=[red_patch, blue_patch, green_patch])\n",
    "plt.show()"
   ]
  },
  {
   "cell_type": "code",
   "execution_count": null,
   "metadata": {
    "collapsed": true
   },
   "outputs": [],
   "source": []
  },
  {
   "cell_type": "code",
   "execution_count": null,
   "metadata": {
    "collapsed": true
   },
   "outputs": [],
   "source": []
  },
  {
   "cell_type": "code",
   "execution_count": null,
   "metadata": {
    "collapsed": true
   },
   "outputs": [],
   "source": [
    "# Determine k.\n",
    "# Calculate the distance between the new observation and all points in the training set.\n",
    "# Sort the distances to determine the k nearest neighbors based on the k-th minimum distance.\n",
    "# Determine the class of those neighbors.\n",
    "# Determine the majority."
   ]
  },
  {
   "cell_type": "code",
   "execution_count": null,
   "metadata": {
    "collapsed": true
   },
   "outputs": [],
   "source": [
    "\n",
    "   \n",
    "    "
   ]
  },
  {
   "cell_type": "code",
   "execution_count": null,
   "metadata": {
    "collapsed": false
   },
   "outputs": [],
   "source": [
    "def get_majority(dfrnd):\n",
    "\n",
    "#     print(dfrnd)\n",
    "    # set the values for length and width from random row for distance calculations\n",
    "\n",
    "    rnd_length = dfrnd['s_length']\n",
    "    rnd_width = dfrnd['s_width']\n",
    "#     print(\"sepal length in my random row is {}\".format(rnd_length))\n",
    "   \n",
    "\n",
    "    # calculate the distance between the random point and all points in the array based on pythagorean thereom\n",
    "\n",
    "    df['length_dif'] = rnd_length - df['s_length']\n",
    "    df['width_dif'] = rnd_width - df['s_width']\n",
    "    df['dist'] = np.sqrt(df.length_dif **2 + df.width_dif **2)\n",
    "\n",
    "    # sort the data by distance\n",
    "    dfsort = df.sort(['dist'], ascending = [True])\n",
    "\n",
    "    # create a new df with only k nearest neighbors\n",
    "    dfk = dfsort.head(k)\n",
    "#     print(\"nearest neighbors sorted by distance \")\n",
    "#     print(dfk)\n",
    "    \n",
    "    # Vote on majority class\n",
    "    setosa_cnt = 0\n",
    "    versicolor_cnt = 0\n",
    "    virginica_cnt = 0\n",
    "\n",
    "    # count number of each type\n",
    "\n",
    "    setosa_cnt = dfk[df['i_class'] == 'Iris-setosa'].s_length.count()\n",
    "    versicolor_cnt = dfk[df['i_class'] == 'Iris-versicolor'].s_length.count()\n",
    "    virginica_cnt = dfk[df['i_class'] == 'Iris-virginica'].s_length.count()\n",
    "#     print(setosa_cnt, versicolor_cnt, virginica_cnt)\n",
    "\n",
    "    count_dict = {'Iris-setosa': setosa_cnt, 'Iris-versicolor': versicolor_cnt, 'Iris-virginica': virginica_cnt}\n",
    "#     print(count_dict)\n",
    "\n",
    "    majority = max(count_dict, key=lambda key: count_dict[key])\n",
    "#     print(\"Majority vote is {} and actual is {}\".format(majority, dfrnd['i_class']))\n",
    "\n",
    "\n",
    "    return(majority)\n"
   ]
  },
  {
   "cell_type": "code",
   "execution_count": null,
   "metadata": {
    "collapsed": false
   },
   "outputs": [],
   "source": [
    "k = 5\n",
    "\n",
    "len(df)"
   ]
  },
  {
   "cell_type": "code",
   "execution_count": null,
   "metadata": {
    "collapsed": false
   },
   "outputs": [],
   "source": [
    "# df['majority'] = [get_majority(data,k) for index, data in df['i_class'].iteritems()]\n",
    "# raw_data['Loan.Length'] = [get_int_from_text(data) for index, data in raw_data['Loan.Length'].iteritems()]\n",
    "df['majority'] = False\n",
    "\n",
    "for x in range(len(df)):\n",
    "# for x in range(5):\n",
    "    majority = get_majority(df.iloc[x])\n",
    "#     print(majority)\n",
    "    df.loc[x,'majority'] = majority # loc works here but iloc does not"
   ]
  },
  {
   "cell_type": "code",
   "execution_count": null,
   "metadata": {
    "collapsed": false
   },
   "outputs": [],
   "source": [
    "# df[df['i_class' != 'majority']].count()\n",
    "print(\"Number of mislabeled points out of a total %d points : %d\"\n",
    "% (df.shape[0],(df.i_class != df.majority).sum()))"
   ]
  },
  {
   "cell_type": "code",
   "execution_count": null,
   "metadata": {
    "collapsed": false
   },
   "outputs": [],
   "source": [
    "df[df['i_class'] != df['majority']]"
   ]
  },
  {
   "cell_type": "code",
   "execution_count": null,
   "metadata": {
    "collapsed": false
   },
   "outputs": [],
   "source": [
    "df1 = df[df['i_class'] != df['majority']]\n",
    "y = df1['s_width']\n",
    "x = df1['s_length']\n",
    "plt.scatter(x,y, color = 'red')\n",
    "\n",
    "df2 = df[df['i_class'] == df['majority']]\n",
    "y2 = df2['s_width']\n",
    "x2 = df2['s_length']\n",
    "plt.scatter(x2,y2, color = 'green')\n",
    "\n",
    "plt.title('Iris Graph')\n",
    "plt.xlabel('Sepal Length')\n",
    "plt.ylabel('Sepal Width')\n",
    "red_patch = mpatches.Patch(color='red', label='Missed')\n",
    "green_patch = mpatches.Patch(color='green', label = 'Hit')\n",
    "plt.legend(handles=[red_patch, green_patch])\n",
    "plt.show()"
   ]
  },
  {
   "cell_type": "code",
   "execution_count": null,
   "metadata": {
    "collapsed": false
   },
   "outputs": [],
   "source": [
    "a = pd.scatter_matrix(df, alpha=0.05, figsize=(10,10), diagonal='hist')\n"
   ]
  },
  {
   "cell_type": "code",
   "execution_count": null,
   "metadata": {
    "collapsed": true
   },
   "outputs": [],
   "source": []
  }
 ],
 "metadata": {
  "kernelspec": {
   "display_name": "Python 2",
   "language": "python",
   "name": "python2"
  },
  "language_info": {
   "codemirror_mode": {
    "name": "ipython",
    "version": 2
   },
   "file_extension": ".py",
   "mimetype": "text/x-python",
   "name": "python",
   "nbconvert_exporter": "python",
   "pygments_lexer": "ipython2",
   "version": "2.7.12"
  }
 },
 "nbformat": 4,
 "nbformat_minor": 0
}
